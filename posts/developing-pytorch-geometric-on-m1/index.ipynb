{
  "cells": [
    {
      "cell_type": "raw",
      "metadata": {},
      "source": []
    },
    {
      "cell_type": "raw",
      "metadata": {},
      "source": [
        "---\n",
        "title: \"Developing Pytorch Geometric on M1 Apple Silicon\"\n",
        "author: \"Ravi Kalia\"\n",
        "date: \"2024-03-03\"\n",
        "categories: [graphs, code, development, environment]\n",
        "image: \"macbook-pro-m1.unsplash.jpg\"\n",
        "draft: false\n",
        "format:\n",
        "    html:\n",
        "        code-copy: true\n",
        "        code-fold: false\n",
        "        toc: true\n",
        "        toc-depth: 2\n",
        "---"
      ]
    },
    {
      "cell_type": "markdown",
      "metadata": {},
      "source": [
        "**TLDR**: My investigation indicates that the library pytorch geometric (also referred to as `pyg`, using package name `torch_geometric`) on Apple Silicon (AS) - particularly the M1 chip - has partial developer support.\n",
        "\n",
        "A bit more: It is now feasible to perform a full developer installation of `torch_geometric` using PyTorch on AS with Apple's native GPU compute framework, [Metal Performance Shaders](https://developer.apple.com/documentation/metalperformanceshaders) - `mps` - (which includes its own kind of embedded BLAS). The only remaining challenge is testing with a developer installation. The test suite does not currently build for AS.\n",
        "\n",
        "I've been talking with the `pyg-team` and they are interested in supporting AS more fully. It's a matter of time and resources. `rusty1s` (the lead developer) has been very helpful and responsive, adding a test runner for Apple Silicon.\n",
        "\n",
        "# Developing Pytorch Geometric on M1 Apple Silicon\n",
        "\n",
        "![Image of Macbook Pro M1](./macbook-pro-m1.unsplash.jpg)\n",
        "\n",
        "Photo by <a href=\"https://unsplash.com/@theregisti?utm_content=creditCopyText&utm_medium=referral&utm_source=unsplash\">TheRegisti</a> on <a href=\"https://unsplash.com/photos/a-close-up-of-a-laptop-on-a-table-M_DMDRj0IuQ?utm_content=creditCopyText&utm_medium=referral&utm_source=unsplash\">Unsplash</a>\n",
        "\n",
        "I've recently begun contributing to an open-source Python project, specifically the intriguing [geometric machine learning](https://geometricdeeplearning.com/) library, [pytorch geometric](https://github.com/pyg-team/pytorch_geometric) (`torch_geometric`). After forking the repository, my goal is to develop and contribute code.\n",
        "\n",
        "As we'll explore below, the installation process for [Apple Silicon](https://en.wikipedia.org/wiki/Apple_silicon) (AS) in my case, the M1 Pro chip can be involved. This complexity arises from pre-compiled dependencies specific to chip architecture, including `C/C++` extensions for base packages and the lack of support for AS in Intel's Math Kernel Library, [oneMKL](https://www.intel.com/content/www/us/en/developer/tools/oneapi/onemkl.html). \n",
        "\n",
        "The `pyg-team` does provide pre-built distributions for most chip architectures, excluding AS.  (Notably project receives technical support from Nvidia and Intel.) \n",
        "\n",
        "This project's core dependency is PyTorch which runs on AS with Apple's `mps` framework. However, as the project is not tested for this architecture - issues can arise from specific edge cases.\n",
        "\n",
        "Apple released its own shared memory array based framework [mlx](https://github.com/ml-explore/mlx) and there is a nascent [geometric deep learning project](https://mlx-graphs.github.io/mlx-graphs/) specifically for `mlx`.\n",
        "\n",
        "Returning to `torch_geometric`, in this post, we'll put some effort into the installation process for different use cases on AS devices. That is, for two kinds of roles:\n",
        "\n",
        "* User\n",
        "* Developer (including a full set of developer dependencies)"
      ]
    },
    {
      "cell_type": "markdown",
      "metadata": {},
      "source": [
        "## User Installation\n",
        "\n",
        "The installation of the package as a user, utilizing a wheels distribution, is generally straightforward across most CPU/GPU architectures, including AS. Here are the steps:\n",
        "\n",
        "1. Check for conda, install if missing.\n",
        "1. Establish a clean Python virtual environment.\n",
        "1. Activate the newly created virtual environment.\n",
        "1. Install the latest version of PyTorch.\n",
        "1. Proceed with the installation of PyTorch Geometric.\n",
        "1. Check that it imports without errors.\n",
        "\n",
        "\n",
        "There's a [gist](https://gist.github.com/project-delphi/38d1db47ed28dde3c8418d5f435c865c) of what worked for me. The cell below uses the `%load` magic command to load the bash script into the code cell, followed by running it with insertion of  the `%%bash` magic command at the top of the code block."
      ]
    },
    {
      "cell_type": "code",
      "execution_count": 16,
      "metadata": {
        "vscode": {
          "languageId": "python"
        }
      },
      "outputs": [
        {
          "name": "stdout",
          "output_type": "stream",
          "text": [
            "Conda is installed\n",
            "Python 3.11.8\n",
            "torch version: 2.2.0\n",
            "torch geometric version: 2.5.1\n"
          ]
        }
      ],
      "source": [
        "%%bash\n",
        "\n",
        "# %load https://gist.githubusercontent.com/project-delphi/38d1db47ed28dde3c8418d5f435c865c/raw/665c079a1f6eff72207309ed97dd6b49194df812/pyg_user_install.sh\n",
        "# set variables here\n",
        "DIR=\"$HOME/Code/throwaway/pytorch-geometric-user-install\"\n",
        "PYTHON_VERSION=3.11\n",
        "RECENT_TORCH_VERSION=2.2.0\n",
        "\n",
        "# install miniconda for apple silicon, if not already installed\n",
        "if [ -d \"$HOME/anaconda3\" ] || [ -d \"$HOME/miniconda3\" ]\n",
        "then\n",
        "    echo \"Conda is installed\"\n",
        "else\n",
        "    curl -O https://repo.anaconda.com/miniconda/Miniconda3-latest-MacOSX-arm64.sh\n",
        "    sh Miniconda3-latest-MacOSX-arm64.sh -b -u  > /dev/null 2>&1\n",
        "fi\n",
        "\n",
        "mkdir -p \"$DIR\"\n",
        "cd \"$DIR\"\n",
        "conda create --yes  -p $DIR/.venv python=$PYTHON_VERSION > /dev/null 2>&1\n",
        "eval \"$(conda shell.bash hook)\"\n",
        "conda activate $DIR/.venv\n",
        "pip install -q --upgrade pip\n",
        "\n",
        "##### TORCH BUILD AND INSTALL ON M1, to use GPUs #####\n",
        "pip install -q numpy # to remove user warning with torch install\n",
        "pip install -q mpmath==1.3.0 # bugfix\n",
        "xcode-select --install  > /dev/null 2>&1 # if xcode not installed\n",
        "\n",
        "###### install torch ######\n",
        "pip install -q --pre torch==$RECENT_TORCH_VERSION torchvision torchaudio --extra-index-url https://download.pytorch.org/whl/nightly/cpu \n",
        "\n",
        "# install torch geometric\n",
        "pip install -q torch-geometric\n",
        "\n",
        "# check\n",
        "python --version\n",
        "python -c \"import torch; print(f'torch version: {torch.__version__}')\"\n",
        "python -c \"import torch_geometric as pyg; print(f'torch geometric version: {pyg.__version__}')\""
      ]
    },
    {
      "cell_type": "markdown",
      "metadata": {},
      "source": [
        "Which is great for using `torch_geometric` on my M1 Pro.\n",
        "\n",
        "The problem is that I want to develop (and not just use) locally - that is to have an editable local install on my 2021 16 inch Macbook Pro M1 Pro. Sadly the M1 architecture does not have official support by [pyg-team](https://github.com/pyg-team) 😔 (I suspect the issues observed also apply to later Apple Silicon too.) \n",
        "\n",
        "Let's see how far we can get with the installation process.\n"
      ]
    },
    {
      "cell_type": "markdown",
      "metadata": {},
      "source": [
        "## Developer Installation\n",
        "\n",
        "### Non Apple Silicon Machines\n",
        "\n",
        "From the project [contributing](https://github.com/pyg-team/pytorch_geometric/blob/master/.github/CONTRIBUTING.md) guidelines, the instructions are clear.\n",
        "\n",
        "1. Install a recent version of PyTorch\n",
        "1. Optionally install some dependencies if changes make use of them\n",
        "1. Be sure to uninstall the `pytorch_geometric` package\n",
        "1. Clone the repo\n",
        "1. Run an editable install command for the repo\n",
        "1. Run `pytest`: local testing is kind of essential for a developer install.\n",
        "\n",
        "Develop away - (as long as it's a supported architecture)."
      ]
    },
    {
      "cell_type": "markdown",
      "metadata": {},
      "source": [
        "### M1, Possibly All Apple Silicon\n",
        "\n",
        "This M1 hardware problem for developers has been [noted](https://github.com/search?q=repo%3Apyg-team%2Fpytorch_geometric+m1&type=issues).\n",
        "\n",
        "For developers, if feature development on `pytorch_geometric` makes use of the listed package dependencies, several M1/AS issues have been raised.\n",
        "\n",
        "* [`pyg-lib`](https://github.com/search?q=repo%3Apyg-team%2Fpyg-lib+m1&type=issues)\n",
        "* [`pytorch scatter`](https://github.com/search?q=repo%3Arusty1s%2Fpytorch_scatter+m1&type=issues)\n",
        "* [`pytorch sparse`](https://github.com/search?q=repo%3Arusty1s%2Fpytorch_sparse+m1&type=issues)\n",
        "* [`pytorch cluster`](https://github.com/search?q=repo%3Arusty1s%2Fpytorch_cluster+m1&type=issues)\n",
        "\n",
        "(It's likely that the package `torch-spline-conv`, another package dependency, is also an issue for M1/AS users - though no issues mentioning this are given.)\n",
        "\n",
        "These dependencies are being subsumed into other packages (for example `torch.scatter`); at some point they won't be a problem.\n",
        "\n",
        "\n",
        "#### Why is Apple Silicon a Problem?\n",
        "\n",
        "To develop locally, I need a an editable install version of pytorch geometric. This editable install needs additional dependencies (for fuller developer functionality such as testing, type checking, compiling, linting and documentation) some of which depend on `C++` extensions which are not compiled for the M1/AS architecture. The project founder (@rusty1s) has noted that M1 was not supported from the onset - when it wasn't available on github actions, and there are no plans to support it now. Later Apple Silicon is supported, but developer build are variable.\n",
        "\n",
        "#### The Solution\n",
        "\n",
        "`pyg-team` suggested earlier that M1 users wanting the fuller editable version of the package can use the `cmake` & `ninja` build systems to create libraries and dependencies that target M1 - this will give a working modifiable install of pytorch geometric. Some OS and compiler flags need to be set.\n",
        "\n",
        "Let's see if I can do this and get a development environment setup.\n",
        "\n",
        "What I'll do is as follows:\n",
        "\n",
        "1. check the OS & Hardware\n",
        "1. make sure to uninstall all versions of pytorch geometric for all locations.\n",
        "1. create and activate a clean Python virtual environment (seems that conda is the best way to go)\n",
        "1. install a specific version of PyTorch using conda, as recommended by [Apple](https://developer.apple.com/metal/pytorch/)\n",
        "1. build dependencies for clang and macos on my M1 Pro\n",
        "1. build the editable install\n",
        "\n",
        "##### OS and Hardware\n",
        "\n",
        "Let's start by listing my hardware:"
      ]
    },
    {
      "cell_type": "code",
      "execution_count": 18,
      "metadata": {
        "vscode": {
          "languageId": "python"
        }
      },
      "outputs": [
        {
          "name": "stdout",
          "output_type": "stream",
          "text": [
            "Operating System: Darwin\n",
            "Hardware: arm64\n",
            "macOS Version: 14.4\n",
            "Chipset: Apple M1 Pro\n"
          ]
        }
      ],
      "source": [
        "%%bash\n",
        "echo \"Operating System: $(uname -s)\"\n",
        "echo \"Hardware: $(uname -m)\"\n",
        "echo \"macOS Version: $(sw_vers -productVersion)\"\n",
        "echo \"Chipset: $(sysctl -n machdep.cpu.brand_string)\""
      ]
    },
    {
      "cell_type": "markdown",
      "metadata": {},
      "source": [
        "##### Editable Developer Install\n",
        "\n",
        "I've put this [gist](https://gist.github.com/project-delphi/b3b5cc91386997ff882f0a3f04a4b89a) together from responses in github issues raised relating to AS. It installs, but doesn't pass all tests - it seems because the tests are composed from objects that don't work well with Apple Silicon, rather than anything fundamentally broken in AS.\n"
      ]
    },
    {
      "cell_type": "code",
      "execution_count": 20,
      "metadata": {
        "vscode": {
          "languageId": "python"
        }
      },
      "outputs": [],
      "source": [
        "%%bash\n",
        "# %load https://gist.githubusercontent.com/project-delphi/b3b5cc91386997ff882f0a3f04a4b89a/raw/6146ec6cf950c2eeb184e0da3e59ff6fdd69550a/pytorch_geometric_apple_silicon_developer_install.sh\n",
        "# set variables here\n",
        "DIR=\"$HOME/Code/throwaway/pytorch-geometric-developer-install\"\n",
        "PYTHON_VERSION=3.11\n",
        "RECENT_TORCH_VERSION=2.2.0\n",
        "GITHUB_USERNAME=\"project-delphi\"\n",
        "MIN_MACOSX_DEPLOYMENT_TARGET=$(sw_vers -productVersion)\n",
        "\n",
        "# install miniconda for apple silicon, if not already installed\n",
        "if [ ! -d \"$HOME/anaconda3\" ] && [ ! -d \"$HOME/miniconda3\" ]\n",
        "then\n",
        "    echo \"installing conda...\"\n",
        "    curl -O https://repo.anaconda.com/miniconda/Miniconda3-latest-MacOSX-arm64.sh\n",
        "    sh Miniconda3-latest-MacOSX-arm64.sh -b -u  > /dev/null 2>&1\n",
        "fi\n",
        "\n",
        "mkdir -p \"$DIR\"\n",
        "cd \"$DIR\"\n",
        "conda create --yes  -p $DIR/.venv python=$PYTHON_VERSION  > /dev/null 2>&1\n",
        "eval \"$(conda shell.bash hook)\"\n",
        "conda activate $DIR/.venv\n",
        "\n",
        "pip install -q --upgrade pip\n",
        "\n",
        "##### TORCH BUILD AND INSTALL ON M1, to use GPUs #####\n",
        "pip install -q numpy # to remove user warning with torch install\n",
        "pip install -q mpmath==1.3.0 # bugfix\n",
        "xcode-select --install  > /dev/null 2>&1 # if xcode not installed\n",
        "\n",
        "###### install pytorch ######\n",
        "pip install -q --pre torch==$RECENT_TORCH_VERSION torchvision torchaudio --extra-index-url https://download.pytorch.org/whl/nightly/cpu\n",
        "\n",
        "# install dev build dependencies\n",
        "pip install -q cmake\n",
        "pip install -q ninja wheel\n",
        "pip install -q git+https://github.com/pyg-team/pyg-lib.git\n",
        "MACOSX_DEPLOYMENT_TARGET=$MIN_MACOSX_DEPLOYMENT_TARGET CC=clang CXX=clang++ python -m pip -q --no-cache-dir  install  torch-scatter\n",
        "MACOSX_DEPLOYMENT_TARGET=$MIN_MACOSX_DEPLOYMENT_TARGET CC=clang CXX=clang++ python -m pip -q --no-cache-dir  install  torch-sparse\n",
        "MACOSX_DEPLOYMENT_TARGET=$MIN_MACOSX_DEPLOYMENT_TARGET CC=clang CXX=clang++ python -m pip -q --no-cache-dir  install  torch-cluster\n",
        "MACOSX_DEPLOYMENT_TARGET=$MIN_MACOSX_DEPLOYMENT_TARGET CC=clang CXX=clang++ python -m pip -q --no-cache-dir  install  torch-spline-conv\n",
        "\n",
        "# clone the forked repository and rebase to original\n",
        "git clone \"https://github.com/$GITHUB_USERNAME/pytorch_geometric.git\"  2>/dev/null\n",
        "cd pytorch_geometric\n",
        "if ! git remote | grep -q 'upstream'; then\n",
        "    git remote add upstream \"https://github.com/pyg-team/pytorch_geometric\"\n",
        "fi\n",
        "git fetch upstream  -q\n",
        "git rebase upstream/master\n",
        "\n",
        "# build dev install\n",
        "MACOSX_DEPLOYMENT_TARGET=$MIN_MACOSX_DEPLOYMENT_TARGET CC=clang CXX=clang++ python -m pip install -q --no-cache-dir -e \".[dev,full]\"  #> /dev/null 2>&1\n",
        "\n",
        "# check\n",
        "python --version\n",
        "python -c \"import torch; print(f'torch version: {torch.__version__}')\"\n",
        "python -c \"import torch_geometric as pyg; print(f'torch geometric version: {pyg.__version__}')\""
      ]
    },
    {
      "cell_type": "markdown",
      "metadata": {},
      "source": [
        "So a kind of success. I can install a full developer version `pytorch_geometric` on my M1 Pro. \n",
        "\n",
        "However, we also need to check regarding testing (of which there are several undocumented flavours in the project).\n",
        "\n",
        "For the standard set of tests, today I get this:"
      ]
    },
    {
      "cell_type": "code",
      "execution_count": 9,
      "metadata": {
        "vscode": {
          "languageId": "python"
        }
      },
      "outputs": [
        {
          "name": "stderr",
          "output_type": "stream",
          "text": [
            "Fatal Python error: Segmentation fault\n",
            "\n",
            "Current thread 0x00000001f82fbac0 (most recent call first):\n",
            "  File \"/Users/ravikalia/Code/throwaway/pytorch-geometric-developer-install/.venv/lib/python3.11/site-packages/torch/_ops.py\", line 755 in __call__\n",
            "  File \"/Users/ravikalia/Code/throwaway/pytorch-geometric-developer-install/.venv/lib/python3.11/site-packages/pyg_lib/partition/__init__.py\", line 35 in metis\n",
            "  File \"/Users/ravikalia/Code/throwaway/pytorch-geometric-developer-install/pytorch_geometric/torch_geometric/testing/decorators.py\", line 224 in withMETIS\n",
            "  File \"/Users/ravikalia/Code/throwaway/pytorch-geometric-developer-install/pytorch_geometric/test/distributed/test_dist_link_neighbor_loader.py\", line 140 in <module>\n",
            "  File \"/Users/ravikalia/Code/throwaway/pytorch-geometric-developer-install/.venv/lib/python3.11/site-packages/_pytest/assertion/rewrite.py\", line 178 in exec_module\n",
            "  File \"<frozen importlib._bootstrap>\", line 690 in _load_unlocked\n",
            "  File \"<frozen importlib._bootstrap>\", line 1147 in _find_and_load_unlocked\n",
            "  File \"<frozen importlib._bootstrap>\", line 1176 in _find_and_load\n",
            "  File \"<frozen importlib._bootstrap>\", line 1204 in _gcd_import\n",
            "  File \"/Users/ravikalia/Code/throwaway/pytorch-geometric-developer-install/.venv/lib/python3.11/importlib/__init__.py\", line 126 in import_module\n",
            "  File \"/Users/ravikalia/Code/throwaway/pytorch-geometric-developer-install/.venv/lib/python3.11/site-packages/_pytest/pathlib.py\", line 584 in import_path\n",
            "  File \"/Users/ravikalia/Code/throwaway/pytorch-geometric-developer-install/.venv/lib/python3.11/site-packages/_pytest/python.py\", line 520 in importtestmodule\n",
            "  File \"/Users/ravikalia/Code/throwaway/pytorch-geometric-developer-install/.venv/lib/python3.11/site-packages/_pytest/python.py\", line 573 in _getobj\n",
            "  File \"/Users/ravikalia/Code/throwaway/pytorch-geometric-developer-install/.venv/lib/python3.11/site-packages/_pytest/python.py\", line 315 in obj\n",
            "  File \"/Users/ravikalia/Code/throwaway/pytorch-geometric-developer-install/.venv/lib/python3.11/site-packages/_pytest/python.py\", line 589 in _register_setup_module_fixture\n",
            "  File \"/Users/ravikalia/Code/throwaway/pytorch-geometric-developer-install/.venv/lib/python3.11/site-packages/_pytest/python.py\", line 576 in collect\n",
            "  File \"/Users/ravikalia/Code/throwaway/pytorch-geometric-developer-install/.venv/lib/python3.11/site-packages/_pytest/runner.py\", line 388 in collect\n",
            "  File \"/Users/ravikalia/Code/throwaway/pytorch-geometric-developer-install/.venv/lib/python3.11/site-packages/_pytest/runner.py\", line 340 in from_call\n",
            "  File \"/Users/ravikalia/Code/throwaway/pytorch-geometric-developer-install/.venv/lib/python3.11/site-packages/_pytest/runner.py\", line 390 in pytest_make_collect_report\n",
            "  File \"/Users/ravikalia/Code/throwaway/pytorch-geometric-developer-install/.venv/lib/python3.11/site-packages/pluggy/_callers.py\", line 102 in _multicall\n",
            "  File \"/Users/ravikalia/Code/throwaway/pytorch-geometric-developer-install/.venv/lib/python3.11/site-packages/pluggy/_manager.py\", line 119 in _hookexec\n",
            "  File \"/Users/ravikalia/Code/throwaway/pytorch-geometric-developer-install/.venv/lib/python3.11/site-packages/pluggy/_hooks.py\", line 501 in __call__\n",
            "  File \"/Users/ravikalia/Code/throwaway/pytorch-geometric-developer-install/.venv/lib/python3.11/site-packages/_pytest/runner.py\", line 565 in collect_one_node\n",
            "  File \"/Users/ravikalia/Code/throwaway/pytorch-geometric-developer-install/.venv/lib/python3.11/site-packages/_pytest/main.py\", line 839 in _collect_one_node\n",
            "  File \"/Users/ravikalia/Code/throwaway/pytorch-geometric-developer-install/.venv/lib/python3.11/site-packages/_pytest/main.py\", line 976 in genitems\n",
            "  File \"/Users/ravikalia/Code/throwaway/pytorch-geometric-developer-install/.venv/lib/python3.11/site-packages/_pytest/main.py\", line 981 in genitems\n",
            "  File \"/Users/ravikalia/Code/throwaway/pytorch-geometric-developer-install/.venv/lib/python3.11/site-packages/_pytest/main.py\", line 981 in genitems\n",
            "  File \"/Users/ravikalia/Code/throwaway/pytorch-geometric-developer-install/.venv/lib/python3.11/site-packages/_pytest/main.py\", line 981 in genitems\n",
            "  File \"/Users/ravikalia/Code/throwaway/pytorch-geometric-developer-install/.venv/lib/python3.11/site-packages/_pytest/main.py\", line 981 in genitems\n",
            "  File \"/Users/ravikalia/Code/throwaway/pytorch-geometric-developer-install/.venv/lib/python3.11/site-packages/_pytest/main.py\", line 813 in perform_collect\n",
            "  File \"/Users/ravikalia/Code/throwaway/pytorch-geometric-developer-install/.venv/lib/python3.11/site-packages/_pytest/main.py\", line 349 in pytest_collection\n",
            "  File \"/Users/ravikalia/Code/throwaway/pytorch-geometric-developer-install/.venv/lib/python3.11/site-packages/pluggy/_callers.py\", line 102 in _multicall\n",
            "  File \"/Users/ravikalia/Code/throwaway/pytorch-geometric-developer-install/.venv/lib/python3.11/site-packages/pluggy/_manager.py\", line 119 in _hookexec\n",
            "  File \"/Users/ravikalia/Code/throwaway/pytorch-geometric-developer-install/.venv/lib/python3.11/site-packages/pluggy/_hooks.py\", line 501 in __call__\n",
            "  File \"/Users/ravikalia/Code/throwaway/pytorch-geometric-developer-install/.venv/lib/python3.11/site-packages/_pytest/main.py\", line 338 in _main\n",
            "  File \"/Users/ravikalia/Code/throwaway/pytorch-geometric-developer-install/.venv/lib/python3.11/site-packages/_pytest/main.py\", line 285 in wrap_session\n",
            "  File \"/Users/ravikalia/Code/throwaway/pytorch-geometric-developer-install/.venv/lib/python3.11/site-packages/_pytest/main.py\", line 332 in pytest_cmdline_main\n",
            "  File \"/Users/ravikalia/Code/throwaway/pytorch-geometric-developer-install/.venv/lib/python3.11/site-packages/pluggy/_callers.py\", line 102 in _multicall\n",
            "  File \"/Users/ravikalia/Code/throwaway/pytorch-geometric-developer-install/.venv/lib/python3.11/site-packages/pluggy/_manager.py\", line 119 in _hookexec\n",
            "  File \"/Users/ravikalia/Code/throwaway/pytorch-geometric-developer-install/.venv/lib/python3.11/site-packages/pluggy/_hooks.py\", line 501 in __call__\n",
            "  File \"/Users/ravikalia/Code/throwaway/pytorch-geometric-developer-install/.venv/lib/python3.11/site-packages/_pytest/config/__init__.py\", line 174 in main\n",
            "  File \"/Users/ravikalia/Code/throwaway/pytorch-geometric-developer-install/.venv/lib/python3.11/site-packages/_pytest/config/__init__.py\", line 197 in console_main\n",
            "  File \"/Users/ravikalia/Code/throwaway/pytorch-geometric-developer-install/.venv/bin/pytest\", line 8 in <module>\n",
            "\n",
            "Extension modules: numpy.core._multiarray_umath, numpy.core._multiarray_tests, numpy.linalg._umath_linalg, numpy.fft._pocketfft_internal, numpy.random._common, numpy.random.bit_generator, numpy.random._bounded_integers, numpy.random._mt19937, numpy.random.mtrand, numpy.random._philox, numpy.random._pcg64, numpy.random._sfc64, numpy.random._generator, torch._C, torch._C._fft, torch._C._linalg, torch._C._nested, torch._C._nn, torch._C._sparse, torch._C._special, scipy._lib._ccallback_c, scipy.sparse._sparsetools, _csparsetools, scipy.sparse._csparsetools, scipy.linalg._fblas, scipy.linalg._flapack, scipy.linalg.cython_lapack, scipy.linalg._cythonized_array_utils, scipy.linalg._solve_toeplitz, scipy.linalg._flinalg, scipy.linalg._decomp_lu_cython, scipy.linalg._matfuncs_sqrtm_triu, scipy.linalg.cython_blas, scipy.linalg._matfuncs_expm, scipy.linalg._decomp_update, scipy.sparse.linalg._dsolve._superlu, scipy.sparse.linalg._eigen.arpack._arpack, scipy.sparse.csgraph._tools, scipy.sparse.csgraph._shortest_path, scipy.sparse.csgraph._traversal, scipy.sparse.csgraph._min_spanning_tree, scipy.sparse.csgraph._flow, scipy.sparse.csgraph._matching, scipy.sparse.csgraph._reordering, scipy.spatial._ckdtree, scipy._lib.messagestream, scipy.spatial._qhull, scipy.spatial._voronoi, scipy.spatial._distance_wrap, scipy.spatial._hausdorff, scipy.special._ufuncs_cxx, scipy.special._ufuncs, scipy.special._specfun, scipy.special._comb, scipy.special._ellip_harm_2, scipy.spatial.transform._rotation, scipy.cluster._vq, scipy.cluster._hierarchy, scipy.cluster._optimal_leaf_ordering, yaml._yaml, numba.core.typeconv._typeconv, numba._helperlib, numba._dynfunc, numba._dispatcher, numba.core.runtime._nrt_python, numba.np.ufunc._internal, numba.experimental.jitclass._box, psutil._psutil_osx, psutil._psutil_posix, markupsafe._speedups, pandas._libs.tslibs.ccalendar, pandas._libs.tslibs.np_datetime, pandas._libs.tslibs.dtypes, pandas._libs.tslibs.base, pandas._libs.tslibs.nattype, pandas._libs.tslibs.timezones, pandas._libs.tslibs.fields, pandas._libs.tslibs.timedeltas, pandas._libs.tslibs.tzconversion, pandas._libs.tslibs.timestamps, pandas._libs.properties, pandas._libs.tslibs.offsets, pandas._libs.tslibs.strptime, pandas._libs.tslibs.parsing, pandas._libs.tslibs.conversion, pandas._libs.tslibs.period, pandas._libs.tslibs.vectorized, pandas._libs.ops_dispatch, pandas._libs.missing, pandas._libs.hashtable, pandas._libs.algos, pandas._libs.interval, pandas._libs.lib, pandas._libs.ops, pandas._libs.hashing, pandas._libs.arrays, pandas._libs.tslib, pandas._libs.sparse, pandas._libs.internals, pandas._libs.indexing, pandas._libs.index, pandas._libs.writers, pandas._libs.join, pandas._libs.window.aggregations, pandas._libs.window.indexers, pandas._libs.reshape, pandas._libs.groupby, pandas._libs.json, pandas._libs.parsers, pandas._libs.testing, matplotlib._c_internal_utils, PIL._imaging, matplotlib._path, kiwisolver._cext, matplotlib._image, rdkit.rdBase (total: 116)\n"
          ]
        }
      ],
      "source": [
        "%%bash\n",
        "# set variables here\n",
        "DIR=\"$HOME/Code/throwaway/pytorch-geometric-developer-install\"\n",
        "cd \"$DIR\"\n",
        "eval \"$(conda shell.bash hook)\"\n",
        "conda activate $DIR/.venv\n",
        "# install missing packages needed for testing\n",
        "pip install -q matplotlib-inline ipython\n",
        "pytest -q --tb=no | tail -n 1"
      ]
    },
    {
      "cell_type": "markdown",
      "metadata": {},
      "source": [
        "A week ago I noticed that the tests were failing, and then a few days ago they were passing. Today they are not passing, due to new tests. This is caused by commit updates which don't test on Apple Silicon. \n",
        "\n",
        "This inconsistency is a problem for contributing to the project. As mentioned, @rusty1s has committed changes to the tests which accommodate Apple Silicon using his own device - but this is not a sustainable approach.\n",
        "\n",
        "There's not a good solution to variable `pytest` runs, since feature updates (commits) to the main line branch  -- which don't build for Apple Silicon -- are likely to break some test at least some of the time. \n",
        "\n",
        "In some issues, @rusty1s mentioned a community effort to help test Apple Silicon builds, specifically the M1 architecture. I'd like to contribute, it's just figuring out how to do so for the long term.\n",
        "\n",
        "Else, the path of least resistance is to move to the cloud - I've recently received cloud credit from major providers."
      ]
    },
    {
      "cell_type": "markdown",
      "metadata": {},
      "source": [
        "## More On Testing\n",
        "\n",
        "These test related issues are not unique to the default testing for the package. The package has several kinds of tests, including: full, gpu, previous version, and nightly. \n",
        "\n",
        "I looked over the github actions [workflows](https://github.com/pyg-team/pytorch_geometric/tree/master/.github/workflows), I noticed that full testing and gpu testing are not set up for apple silicon and also have to install undeclared dependencies, such as `graphviz` and bugfix pinned versions of packages (e.g. `mpmath==1.3.0`). These minor issues could be useful to work on - even with current default testing this seems to be the case.\n",
        "\n",
        "I'm thinking of a `Makefile` to compose the different installation and testing steps into higher level portable grammars. This would be useful for the community, and also for me to use in the future.\n",
        "\n",
        "Update, @rusty1s suggested more specific testing for mps (and by implication AS), starting with test decorators. That and test documentation could be a good place to start.\n",
        "\n",
        "## References\n",
        "\n",
        "* [pytorch on Apple Metal](https://developer.apple.com/metal/pytorch/)\n",
        "\n",
        "* [pyg-lib M1 issues](https://github.com/search?q=repo%3Apyg-team%2Fpyg-lib+m1&type=issues)\n",
        "\n",
        "* [pytorch-scatter M1 issue](https://github.com/rusty1s/pytorch_scatter/issues/183)\n",
        "\n",
        "* [pytorch-spars M1 issues](https://github.com/search?q=repo%3Arusty1s%2Fpytorch_sparse+m1&type=issues)\n",
        "\n",
        "* [pytorch-cluster M1 issues](https://github.com/search?q=repo%3Arusty1s%2Fpytorch_cluster+m1&type=issues)"
      ]
    }
  ],
  "metadata": {
    "kernelspec": {
      "display_name": "Python 3 (ipykernel)",
      "language": "python",
      "name": "python3"
    }
  },
  "nbformat": 4,
  "nbformat_minor": 4
}
