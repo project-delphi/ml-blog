{
 "cells": [
  {
   "cell_type": "raw",
   "metadata": {},
   "source": []
  },
  {
   "cell_type": "raw",
   "metadata": {
    "vscode": {
     "languageId": "raw"
    }
   },
   "source": [
    "---\n",
    "title: \"Git Repository Search\"\n",
    "author: \"Ravi Kalia\"\n",
    "date: \"2024-04-22\"\n",
    "categories: [graphs, code, development, environment]\n",
    "image: \"./git-search.jpg\"\n",
    "draft: false\n",
    "format:\n",
    "    html:\n",
    "        code-copy: true\n",
    "        code-fold: true \n",
    "        toc: true\n",
    "        toc-depth: 2\n",
    "---"
   ]
  },
  {
   "cell_type": "markdown",
   "metadata": {},
   "source": [
    "# Git Repo Search\n",
    "\n",
    "\n",
    "![\"Robot Magnifying Glass Search\"](./git-search.jpg)\n",
    "\n",
    "Photo by <a href=\"https://unsplash.com/@growtika?utm_content=creditCopyText&utm_medium=referral&utm_source=unsplash\">Growtika</a> on <a href=\"https://unsplash.com/photos/a-white-robot-holding-a-magnifying-glass-g5kpSCf3dOs?utm_content=creditCopyText&utm_medium=referral&utm_source=unsplash\">Unsplash</a>\n",
    "  \n",
    "\n",
    "There are many ways to search a repository, particularly a Git Repo. We will outline some use cases with examples for a \"Unix-like\" file directory and also a Git Repo.\n",
    "\n",
    "\n",
    "Let's do this for a library I've been looking at. \n",
    "\n",
    "Some unit tests break on Apple Silicon for the open source library [pyg](pyg.org). The maintainer disabled some tests. I want to find them. It has something to do with PyTorch not fully supporting compressed sparse tensor representations on Apple's `mps` framework for Apple Silicon. I received the following note:\n",
    "\n",
    ">there are a few tests that were disabled around `test_sparse` \n",
    "\n",
    "and\n",
    "\n",
    ">the `convert_coo_to_csr_indices`  doesn't seem to be supported.\n",
    "\n",
    "It's likely that test_sparse and convert_coo_to_csr_indices are variable names or tokens inside a code file of the git repository. However, for illustration, we will assume that they could be anywhere in the git repo (filenames, directory names, commit messages, variable names, past commits, current directory).\n",
    "\n",
    "The objective is to find (and then later fix bugs) related to these strings. So find the strings in filenames and/or inside contents of filenames (line numbers of specific files), checking through commit history for occurences of the strings.\n",
    "\n",
    "Time to search. The repo can be cloned locally from [here](https://github.com/pyg-team/pytorch_geometric/) and then cd into it.\n"
   ]
  },
  {
   "cell_type": "code",
   "execution_count": 157,
   "metadata": {},
   "outputs": [],
   "source": [
    "import os\n",
    "\n",
    "os.chdir(\"/Users/ravikalia/Code/github.com/ml-blog/posts/git-search/\")"
   ]
  },
  {
   "cell_type": "code",
   "execution_count": 158,
   "metadata": {},
   "outputs": [
    {
     "name": "stdout",
     "output_type": "stream",
     "text": [
      "/Users/ravikalia/Code/github.com/ml-blog/posts/git-search\n"
     ]
    }
   ],
   "source": [
    "print(os.getcwd())"
   ]
  },
  {
   "cell_type": "code",
   "execution_count": 159,
   "metadata": {},
   "outputs": [
    {
     "name": "stderr",
     "output_type": "stream",
     "text": [
      "Cloning into 'pytorch_geometric'...\n"
     ]
    }
   ],
   "source": [
    "%%bash\n",
    "if [ -d \"pytorch_geometric\" ]; then\n",
    "    rm -rf pytorch_geometric\n",
    "fi\n",
    "git clone https://github.com/pyg-team/pytorch_geometric.git\n",
    "git -C pytorch_geometric fetch --all"
   ]
  },
  {
   "cell_type": "markdown",
   "metadata": {},
   "source": [
    "Let's change the directory to the root of the cloned repo, which makes searching easier"
   ]
  },
  {
   "cell_type": "code",
   "execution_count": 160,
   "metadata": {},
   "outputs": [],
   "source": [
    "os.chdir(\"./pytorch_geometric\")"
   ]
  },
  {
   "cell_type": "markdown",
   "metadata": {},
   "source": [
    "## Filename in \"Unix-like\" Directory\n",
    "\n",
    "We can look for the string `test_sparse` in filenames using the shell command line tool `find`."
   ]
  },
  {
   "cell_type": "code",
   "execution_count": 161,
   "metadata": {},
   "outputs": [
    {
     "name": "stdout",
     "output_type": "stream",
     "text": [
      "./test/utils/test_sparse.py\n"
     ]
    }
   ],
   "source": [
    "%%bash\n",
    "find . -name \"*test_sparse*\" -o -name \"*convert_coo_to_csr_indices*\""
   ]
  },
  {
   "cell_type": "markdown",
   "metadata": {},
   "source": [
    "great, so we have a file to look at. Let's look at the file `test_sparse.py`. It seems to be unit tests related to sparsity, possibly testing utility functions for converting between sparse tensor representations. "
   ]
  },
  {
   "cell_type": "markdown",
   "metadata": {},
   "source": [
    "## String in \"Unix-like\" Directory\n",
    "\n",
    "String search is a bit more complicated. `grep` is an awesome tool for this. \n"
   ]
  },
  {
   "cell_type": "code",
   "execution_count": 162,
   "metadata": {},
   "outputs": [
    {
     "name": "stdout",
     "output_type": "stream",
     "text": [
      "./test/utils/test_cross_entropy.py:9:def test_sparse_cross_entropy_multiclass(with_edge_label_weight):\n",
      "./test/utils/test_cross_entropy.py:32:def test_sparse_cross_entropy_multilabel(with_edge_label_weight):\n",
      "./test/test_edge_index.py:102:def test_sparse_tensor(dtype, device):\n",
      "./test/test_edge_index.py:992:def test_sparse_narrow(device):\n",
      "./test/test_edge_index.py:1026:def test_sparse_resize(device):\n",
      "./torch_geometric/testing/asserts.py:24:    test_sparse_layouts: Optional[List[Union[str, torch.layout]]] = None,\n",
      "./torch_geometric/testing/asserts.py:49:        test_sparse_layouts (List[str or int], optional): The sparse layouts to\n",
      "./torch_geometric/testing/asserts.py:62:    if test_sparse_layouts is None:\n",
      "./torch_geometric/testing/asserts.py:63:        test_sparse_layouts = SPARSE_LAYOUTS\n",
      "./torch_geometric/testing/asserts.py:74:    if len(test_sparse_layouts) > 0 and sparse_size is None:\n",
      "./torch_geometric/testing/asserts.py:75:        raise ValueError(f\"Got sparse layouts {test_sparse_layouts}, but no \"\n",
      "./torch_geometric/testing/asserts.py:93:    for layout in (test_sparse_layouts or []):\n",
      "Binary file ./.git/index matches\n"
     ]
    }
   ],
   "source": [
    "%%bash\n",
    "grep -rn . -e \"test_sparse\" -e \"convert_coo_to_csr_indices\""
   ]
  },
  {
   "cell_type": "markdown",
   "metadata": {},
   "source": [
    "Many locations matched to 3 files. It's possible they aren't all relevant for testing purpose. The `.git/index` is a binary file, which is used by git to store information about the repository, it's not relevant for our task. "
   ]
  },
  {
   "cell_type": "markdown",
   "metadata": {},
   "source": [
    "## What is Git\n",
    "\n",
    "Git is a distributed version control system. It is a tool that tracks changes in files and directories. At user-defined snapshots in time, called commits, it records the changes made to the files and directories. As a consequence it is possible to search for changes in the repository across snapshots. \n",
    "\n",
    "\n",
    "Along with `grep` and `find`, there are `git` specific tools for searching snapshots of the repo, commit messages and filtering by `date` and `author`, such as:\n",
    "\n",
    "* `git ls-files`\n",
    "* `git log`\n",
    "* `git grep`"
   ]
  },
  {
   "cell_type": "markdown",
   "metadata": {},
   "source": [
    "## Filename in Git Repository\n",
    "\n",
    "The working tree is what you see when you list the files in your project's directory that are being tracked. It's the version of your project that you're currently working on. The git checkout command is used to update the working directory with a specific commit, matching the snapshot recorded in the commit. Untracked files are not affected by git checkout.\n",
    "\n",
    "The `git ls-files` command lists the files in the working tree that are being tracked by git. The filenames can be searched for a string using the `grep` command."
   ]
  },
  {
   "cell_type": "code",
   "execution_count": 163,
   "metadata": {},
   "outputs": [
    {
     "name": "stdout",
     "output_type": "stream",
     "text": [
      "test/utils/test_sparse.py\n"
     ]
    }
   ],
   "source": [
    "%%bash\n",
    "git ls-files | grep \"test_sparse\""
   ]
  },
  {
   "cell_type": "markdown",
   "metadata": {},
   "source": [
    "If we want to log commit messages (including commit ids) where filenames contain the string `test_sparse` were modified, we can use the following command, truncating the output with pipe to `head`:"
   ]
  },
  {
   "cell_type": "code",
   "execution_count": 164,
   "metadata": {},
   "outputs": [
    {
     "name": "stdout",
     "output_type": "stream",
     "text": [
      "commit 62fa51e0000913e1b3023b817485d2b248322539\n",
      "Author: Matthias Fey <matthias.fey@tu-dortmund.de>\n",
      "Date:   Sun Dec 24 11:56:08 2023 +0100\n",
      "\n",
      "    Accelerate concatenation of `torch.sparse` tensors (#8670)\n",
      "    \n",
      "    Fixes #8664\n",
      "\n",
      "commit 1c89e751804d1eb2fb626dabc677198a1878c34d\n",
      "Author: Matthias Fey <matthias.fey@tu-dortmund.de>\n",
      "Date:   Wed Oct 4 09:59:36 2023 +0200\n",
      "\n",
      "    Skip TorchScript bug for PyTorch < 1.12 (#8123)\n",
      "\n",
      "commit 51c50c2f9d3372de34f4ac3617f396384a36558c\n",
      "Author: filipekstrm <filip.ekstrom@hotmail.com>\n",
      "Date:   Tue Oct 3 20:39:04 2023 +0200\n",
      "\n",
      "    Added `mask` argument to `dense_to_sparse` (#8117)\n",
      "    \n"
     ]
    }
   ],
   "source": [
    "%%bash\n",
    "git log --all -- *test_sparse* | head -n 20"
   ]
  },
  {
   "cell_type": "markdown",
   "metadata": {},
   "source": [
    "## String in File Contents of Git Repository\n",
    "\n",
    "To search for a string inside file contents across commits, we can use the `git log` and `git grep` commands. The `git log` command lists the commits in reverse chronological order. \n",
    "\n",
    "The flag `-S`, and `--all` are used to search for change in the number of occurences of the string in the repo across all branches and commits. (Again we'll pipe to head to truncate the output.)"
   ]
  },
  {
   "cell_type": "code",
   "execution_count": 165,
   "metadata": {},
   "outputs": [
    {
     "name": "stdout",
     "output_type": "stream",
     "text": [
      "commit dba9659f6c4f29fd2be1f50b5ea12a29a926082f\n",
      "Author: Matthias Fey <matthias.fey@tu-dortmund.de>\n",
      "Date:   Thu Feb 29 14:04:19 2024 +0100\n",
      "\n",
      "    Fix `EdgeIndex.resize_` linting issues (#8993)\n",
      "\n",
      "commit 123e38ef6715f75ed9198d256cc2cb984b431630\n",
      "Author: Poovaiah Palangappa <98763718+pmpalang@users.noreply.github.com>\n",
      "Date:   Sun Feb 11 03:32:44 2024 -0800\n",
      "\n",
      "    Example of a recommender system (#8546)\n",
      "    \n",
      "    Hi Everyone,\n",
      "    \n",
      "    I'm adding a recommender system example with the following salient\n",
      "    features\n",
      "    \n",
      "    1. Dataset MovieLens – a heterogenous use case\n",
      "    2. Demonstrates the use of edge based temporal sampling\n",
      "    3. Visualization\n"
     ]
    }
   ],
   "source": [
    "%%bash\n",
    "git log -S \"test_sparse\" --all | head -n 20"
   ]
  },
  {
   "cell_type": "markdown",
   "metadata": {},
   "source": [
    "to be specific to a branch, replace --all with the branch name (`master` in this case)"
   ]
  },
  {
   "cell_type": "code",
   "execution_count": 166,
   "metadata": {},
   "outputs": [],
   "source": [
    "%%bash\n",
    "git log master -S \"convert_coo_to_csr_indices\"  | head -n 20"
   ]
  },
  {
   "cell_type": "markdown",
   "metadata": {},
   "source": [
    "If we just want commit hashes and filenames where a file was added (and has the string in its contents), we can use the `--name-only` flag, made pretty:"
   ]
  },
  {
   "cell_type": "code",
   "execution_count": 167,
   "metadata": {},
   "outputs": [
    {
     "name": "stdout",
     "output_type": "stream",
     "text": [
      "801723efa\n",
      "test/utils/test_cross_entropy.py\n",
      "\n",
      "1dadc0705\n",
      "torch_geometric/testing/asserts.py\n",
      "\n",
      "2c01aa22c\n",
      "test/utils/test_sparse.py\n"
     ]
    }
   ],
   "source": [
    "%%bash\n",
    "git log master -S \"test_sparse\" --pretty=format:\"%h\" --name-only --diff-filter=A"
   ]
  },
  {
   "cell_type": "markdown",
   "metadata": {},
   "source": [
    "With regular expression search use the flag `-G` ( `*` glob is not needed as it's implied with regular expressions)."
   ]
  },
  {
   "cell_type": "code",
   "execution_count": 168,
   "metadata": {},
   "outputs": [],
   "source": [
    "%%bash\n",
    "git log -G \"convert_coo_to_csr_indices\" --pretty=format:\"%h\" --name-only"
   ]
  },
  {
   "cell_type": "markdown",
   "metadata": {},
   "source": [
    "Nothing. It seems that the string `convert_coo_to_csr_indices` is not in the contents of any files in the repo."
   ]
  },
  {
   "cell_type": "code",
   "execution_count": 169,
   "metadata": {},
   "outputs": [
    {
     "name": "stdout",
     "output_type": "stream",
     "text": [
      "390942fc4\n",
      "torch_geometric/data/edge_index.py\n",
      "\n",
      "699120e25\n",
      "torch_geometric/data/edge_index.py\n",
      "\n",
      "a6f0f4947\n",
      "torch_geometric/data/edge_index.py\n",
      "\n",
      "cf786b735\n",
      "torch_geometric/data/edge_index.py\n",
      "\n",
      "b825dc637\n",
      "torch_geometric/data/edge_index.py\n",
      "\n",
      "b5ecfd9b4\n",
      "torch_geometric/data/graph_store.py\n",
      "torch_geometric/nn/conv/cugraph/base.py\n",
      "torch_geometric/nn/conv/rgcn_conv.py\n",
      "torch_geometric/nn/dense/linear.py\n"
     ]
    }
   ],
   "source": [
    "%%bash\n",
    "git log -G \"coo_to_csr\" --pretty=format:\"%h\" --name-only | head -n 20"
   ]
  },
  {
   "cell_type": "markdown",
   "metadata": {},
   "source": [
    "Let's try a few different strings."
   ]
  },
  {
   "cell_type": "code",
   "execution_count": 170,
   "metadata": {},
   "outputs": [],
   "source": [
    "%%bash\n",
    "git log -G \"convert_coo\" --pretty=format:\"%h\" --name-only"
   ]
  },
  {
   "cell_type": "code",
   "execution_count": 171,
   "metadata": {},
   "outputs": [],
   "source": [
    "%%bash\n",
    "git log -G \"csr_indices\" --pretty=format:\"%h\" --name-only"
   ]
  },
  {
   "cell_type": "code",
   "execution_count": 172,
   "metadata": {},
   "outputs": [
    {
     "name": "stdout",
     "output_type": "stream",
     "text": [
      "dba9659f6\n",
      "test/test_edge_index.py\n",
      "\n",
      "123e38ef6\n",
      "test/test_edge_index.py\n",
      "\n",
      "23bbc128d\n",
      "test/test_edge_index.py\n",
      "\n",
      "ed9698d0b\n",
      "torch_geometric/testing/asserts.py\n",
      "\n",
      "1725f1436\n",
      "test/utils/test_cross_entropy.py\n",
      "\n",
      "801723efa\n",
      "test/utils/test_cross_entropy.py\n",
      "\n",
      "1dadc0705\n",
      "torch_geometric/testing/asserts.py\n",
      "\n",
      "7b4892781\n",
      "test/nn/conv/test_gcn_conv.py\n",
      "\n",
      "72e8ef33d\n",
      "test/nn/conv/test_gcn_conv.py\n",
      "\n",
      "93fab2e53\n",
      "test/nn/conv/test_gcn_conv.py\n",
      "\n",
      "d01ea9dab\n",
      "test/utils/test_sparse.py\n",
      "\n",
      "2c01aa22c\n",
      "test/utils/test_sparse.py\n",
      "\n",
      "eb4260ce0\n",
      "torch_geometric/nn/functional/pool/voxel_pool_test.py\n",
      "\n",
      "544f4ad0e\n",
      "torch_geometric/nn/functional/pool/voxel_pool_test.py\n"
     ]
    }
   ],
   "source": [
    "%%bash\n",
    "git log master -G\"test_sparse\" --pretty=format:\"%h\" --name-only"
   ]
  },
  {
   "cell_type": "markdown",
   "metadata": {},
   "source": [
    "## Filter Git Commit Messages for Author, Date and String"
   ]
  },
  {
   "cell_type": "code",
   "execution_count": 173,
   "metadata": {},
   "outputs": [
    {
     "name": "stdout",
     "output_type": "stream",
     "text": [
      "commit f0e4c829662df9eb67fd5c0abda002c9b7cd0afb\n",
      "Author: Ravi Kalia <ravkalia@gmail.com>\n",
      "Date:   Sun Mar 24 08:05:12 2024 -0500\n",
      "\n",
      "    Replace `withCUDA` decorator: `withDevice` (#9082)\n",
      "    \n",
      "    Replace `withCUDA` for a `withDevice` decorator.\n",
      "    \n",
      "    Change variable name from devices to processors to reduce confusion\n",
      "    against pytorch api (backends/devices) and reflect the hardware choices.\n",
      "    \n",
      "    Note that at this time:\n",
      "    \n",
      "    ## Hardware\n",
      "    3 repertoires of hardware can be used to run pyTorch code:\n",
      "    \n",
      "    * CPU only\n",
      "    * CPU and GPU\n",
      "    * Unified Memory Single Chip\n",
      "    \n"
     ]
    }
   ],
   "source": [
    "%%bash\n",
    "git log --author=\"ravkalia\"  | head -n 20"
   ]
  },
  {
   "cell_type": "code",
   "execution_count": 174,
   "metadata": {},
   "outputs": [
    {
     "name": "stdout",
     "output_type": "stream",
     "text": [
      "commit 25b2f208e671eeec285bfafa2e246ea0a234b312\n",
      "Author: Ravi Kalia <ravkalia@gmail.com>\n",
      "Date:   Wed Feb 21 11:11:33 2024 -0500\n",
      "\n",
      "    docs: fix broken links to source of graph classification datasets (#8946)\n",
      "    \n",
      "    **Update Broken Dataset Links in Documentation**\n",
      "    \n",
      "    This PR addresses broken links in the documentation that pointed to the\n",
      "    common benchmark datasets. The links were updated to point to the\n",
      "    correct URL.\n",
      "    \n",
      "    Changes were made in the following files:\n",
      "    \n",
      "    1. `benchmark/kernel/README.md`\n",
      "    2. `docs/source/get_started/introduction.rst`\n",
      "    \n",
      "    The specific changes are as follows:\n",
      "    \n",
      "    In `benchmark/kernel/README.md`:\n"
     ]
    }
   ],
   "source": [
    "%%bash\n",
    "git log --author=\"ravkalia\" --since=\"2022-01-01\" --until=\"2024-02-31\" | head -n 20"
   ]
  },
  {
   "cell_type": "code",
   "execution_count": 175,
   "metadata": {},
   "outputs": [
    {
     "name": "stdout",
     "output_type": "stream",
     "text": [
      "commit 24a185e7268f70ee549c7a424b9426b9a18b5706\n",
      "Author: Ramona Bendias <ramona.bendias@gmail.com>\n",
      "Date:   Mon Feb 21 13:03:52 2022 +0000\n",
      "\n",
      "    Add general `Explainer` Class (#4090)\n",
      "    \n",
      "    * Add base Explainer\n",
      "    \n",
      "    * Update Explainer\n",
      "    \n",
      "    * Fix test\n",
      "    \n",
      "    * Clean code\n",
      "    \n",
      "    * Update test/nn/models/test_explainer.py\n",
      "    \n",
      "    Co-authored-by: Matthias Fey <matthias.fey@tu-dortmund.de>\n",
      "    \n",
      "    * Update torch_geometric/nn/models/explainer.py\n",
      "    \n"
     ]
    }
   ],
   "source": [
    "%%bash\n",
    "git log --grep=\"docs\"  --since=\"2022-01-01\" --until=\"2022-02-31\" | head -n 20"
   ]
  },
  {
   "cell_type": "code",
   "execution_count": 176,
   "metadata": {},
   "outputs": [
    {
     "name": "stdout",
     "output_type": "stream",
     "text": [
      "24a185e72 Add general `Explainer` Class (#4090)\n",
      "6002170a5 Make models compatible to Captum (#3990)\n",
      "14d588d4c Update attention.py (#4009)\n",
      "50ff5e6d6 Add `full` extras to install command in contribution docs (#3991)\n",
      "1e24b3a16 Refactor: `MLP` initialization (#3957)\n",
      "3e4891be6 Doc improvements to set2set layers (#3889)\n",
      "fac848c25 Let `TemporalData` inherit from `BaseData` and add docs (#3867)\n",
      "0c29b0d5b Updated docstring for shape info - part 2 (#3739)\n"
     ]
    }
   ],
   "source": [
    "%%bash\n",
    "git log --oneline --grep=\"docs\"  --since=\"2022-01-01\" --until=\"2022-02-31\" "
   ]
  },
  {
   "cell_type": "markdown",
   "metadata": {},
   "source": [
    "## Git Grep vs Grep\n",
    "\n",
    "The main differences between `git grep` and `grep` are:\n",
    "\n",
    "`git grep` only searches through your tracked files, while `grep` can search through any files.\n",
    "`git grep` is aware of your Git repository structure and can search through old commits, branches, etc., while `grep` only searches through the current state of files.\n",
    "\n",
    "`git grep` is faster than `grep` when searching through a Git repository because it takes advantage of Git's index data structure."
   ]
  },
  {
   "cell_type": "code",
   "execution_count": 177,
   "metadata": {},
   "outputs": [
    {
     "name": "stdout",
     "output_type": "stream",
     "text": [
      "CPU times: user 1.52 ms, sys: 4.44 ms, total: 5.96 ms\n",
      "Wall time: 22.6 ms\n"
     ]
    }
   ],
   "source": [
    "%%time\n",
    "%%bash\n",
    "git grep \"test_sparse\" > /dev/null"
   ]
  },
  {
   "cell_type": "code",
   "execution_count": 178,
   "metadata": {},
   "outputs": [
    {
     "name": "stdout",
     "output_type": "stream",
     "text": [
      "CPU times: user 1.94 ms, sys: 3.26 ms, total: 5.21 ms\n",
      "Wall time: 346 ms\n"
     ]
    }
   ],
   "source": [
    "%%time\n",
    "%%bash\n",
    "grep -r \"test_sparse\" . > /dev/null"
   ]
  },
  {
   "cell_type": "markdown",
   "metadata": {},
   "source": [
    "## Takeaways\n",
    "\n",
    "There are many ways to search a repository, particularly a Git Repo. We outlined some use cases with examples for a \"Unix-like\" file directory and also a Git Repo.\n",
    "\n",
    "In most cases use:\n",
    "\n",
    "* `git grep` for searching strings in the repository in the current working tree or a specific commit\n",
    "\n",
    "* `git log` for searching across commits.\n",
    "\n",
    "There are many flags and options for these commands - some combinations which produce the same output. Be sure to check the documentation for more information.\n",
    "\n",
    "\n",
    "For the strings we are after, the conclusion is:\n",
    "\n",
    "* `test_sparse` is in the filename `test_sparse.py` and in the contents of the file `test_sparse.py` in the repo.\n",
    "* `convert_coo_to_csr_indices` is not in the contents of any files in the repo.\n",
    "*  strings similar to `convert_coo_to_csr_indices` are available.\n",
    "\n",
    "The most promising output from the commands tested are:"
   ]
  },
  {
   "cell_type": "code",
   "execution_count": 179,
   "metadata": {},
   "outputs": [
    {
     "name": "stdout",
     "output_type": "stream",
     "text": [
      "./test/utils/test_cross_entropy.py:9:def test_sparse_cross_entropy_multiclass(with_edge_label_weight):\n",
      "./test/utils/test_cross_entropy.py:32:def test_sparse_cross_entropy_multilabel(with_edge_label_weight):\n",
      "./test/test_edge_index.py:102:def test_sparse_tensor(dtype, device):\n",
      "./test/test_edge_index.py:992:def test_sparse_narrow(device):\n",
      "./test/test_edge_index.py:1026:def test_sparse_resize(device):\n",
      "./torch_geometric/testing/asserts.py:24:    test_sparse_layouts: Optional[List[Union[str, torch.layout]]] = None,\n",
      "./torch_geometric/testing/asserts.py:49:        test_sparse_layouts (List[str or int], optional): The sparse layouts to\n",
      "./torch_geometric/testing/asserts.py:62:    if test_sparse_layouts is None:\n",
      "./torch_geometric/testing/asserts.py:63:        test_sparse_layouts = SPARSE_LAYOUTS\n",
      "./torch_geometric/testing/asserts.py:74:    if len(test_sparse_layouts) > 0 and sparse_size is None:\n",
      "./torch_geometric/testing/asserts.py:75:        raise ValueError(f\"Got sparse layouts {test_sparse_layouts}, but no \"\n",
      "./torch_geometric/testing/asserts.py:93:    for layout in (test_sparse_layouts or []):\n",
      "Binary file ./.git/index matches\n"
     ]
    }
   ],
   "source": [
    "%%bash\n",
    "grep -rn . -e \"test_sparse\" || echo \"no match\""
   ]
  },
  {
   "cell_type": "code",
   "execution_count": 180,
   "metadata": {},
   "outputs": [
    {
     "name": "stdout",
     "output_type": "stream",
     "text": [
      "no match\n"
     ]
    }
   ],
   "source": [
    "%%bash\n",
    "grep -rn . -e \"convert_coo_to_csr_indices\" || echo \"no match\""
   ]
  },
  {
   "cell_type": "code",
   "execution_count": 181,
   "metadata": {},
   "outputs": [
    {
     "name": "stdout",
     "output_type": "stream",
     "text": [
      "test/utils/test_sparse.py\n"
     ]
    }
   ],
   "source": [
    "%%bash\n",
    "git ls-files | grep \"test_sparse\""
   ]
  },
  {
   "cell_type": "code",
   "execution_count": 182,
   "metadata": {},
   "outputs": [
    {
     "name": "stdout",
     "output_type": "stream",
     "text": [
      "390942fc4\n",
      "torch_geometric/data/edge_index.py\n",
      "\n",
      "699120e25\n",
      "torch_geometric/data/edge_index.py\n",
      "\n",
      "a6f0f4947\n",
      "torch_geometric/data/edge_index.py\n",
      "\n",
      "cf786b735\n",
      "torch_geometric/data/edge_index.py\n",
      "\n",
      "b825dc637\n",
      "torch_geometric/data/edge_index.py\n",
      "\n",
      "b5ecfd9b4\n",
      "torch_geometric/data/graph_store.py\n",
      "torch_geometric/nn/conv/cugraph/base.py\n",
      "torch_geometric/nn/conv/rgcn_conv.py\n",
      "torch_geometric/nn/dense/linear.py\n"
     ]
    }
   ],
   "source": [
    "%%bash\n",
    "git log -G \"coo_to_csr\" --pretty=format:\"%h\" --name-only | head -n 20"
   ]
  },
  {
   "cell_type": "code",
   "execution_count": 183,
   "metadata": {},
   "outputs": [
    {
     "name": "stdout",
     "output_type": "stream",
     "text": [
      "Commit: 390942fc4\n",
      "390942fc4:torch_geometric/data/edge_index.py:344:        self._indptr = torch._convert_indices_from_coo_to_csr(\n",
      "390942fc4:torch_geometric/data/edge_index.py:382:            rowptr = self._T_indptr = torch._convert_indices_from_coo_to_csr(\n",
      "390942fc4:torch_geometric/data/edge_index.py:403:            colptr = self._T_indptr = torch._convert_indices_from_coo_to_csr(\n",
      "390942fc4:torch_geometric/utils/sparse.py:480:    return torch._convert_indices_from_coo_to_csr(\n",
      "Commit: 699120e25\n",
      "699120e25:torch_geometric/data/edge_index.py:323:                self._rowptr = rowptr = torch._convert_indices_from_coo_to_csr(\n",
      "699120e25:torch_geometric/data/edge_index.py:351:                self._rowptr = rowptr = torch._convert_indices_from_coo_to_csr(\n",
      "699120e25:torch_geometric/data/edge_index.py:375:                self._colptr = colptr = torch._convert_indices_from_coo_to_csr(\n",
      "699120e25:torch_geometric/data/edge_index.py:403:                self._colptr = colptr = torch._convert_indices_from_coo_to_csr(\n",
      "699120e25:torch_geometric/utils/sparse.py:480:    return torch._convert_indices_from_coo_to_csr(\n",
      "Commit: a6f0f4947\n",
      "a6f0f4947:torch_geometric/data/edge_index.py:321:                self._rowptr = torch._convert_indices_from_coo_to_csr(\n",
      "a6f0f4947:torch_geometric/data/edge_index.py:352:                self._rowptr = torch._convert_indices_from_coo_to_csr(\n",
      "a6f0f4947:torch_geometric/data/edge_index.py:379:                self._colptr = torch._convert_indices_from_coo_to_csr(\n",
      "a6f0f4947:torch_geometric/data/edge_index.py:410:                self._colptr = torch._convert_indices_from_coo_to_csr(\n",
      "a6f0f4947:torch_geometric/utils/sparse.py:480:    return torch._convert_indices_from_coo_to_csr(\n",
      "Commit: cf786b735\n",
      "cf786b735:torch_geometric/data/edge_index.py:236:        self._rowptr = torch._convert_indices_from_coo_to_csr(\n",
      "cf786b735:torch_geometric/data/edge_index.py:255:        self._colptr = torch._convert_indices_from_coo_to_csr(\n"
     ]
    }
   ],
   "source": [
    "%%bash\n",
    "git log --pretty=format:\"%h\" -G \"coo_to_csr\" --all | while read commit; do\n",
    "    echo \"Commit: $commit\"\n",
    "    git grep -n \"coo_to_csr\" $commit\n",
    "done | head -n 20"
   ]
  },
  {
   "cell_type": "markdown",
   "metadata": {},
   "source": [
    "This is a good starting point for debugging the issues with the unit tests in the library. Useful and informative :=)\n",
    "\n",
    "And finally some clean up:"
   ]
  },
  {
   "cell_type": "code",
   "execution_count": 189,
   "metadata": {},
   "outputs": [],
   "source": [
    "import shutil\n",
    "\n",
    "shutil.rmtree(os.getcwd())"
   ]
  }
 ],
 "metadata": {
  "kernelspec": {
   "display_name": "Python 3",
   "language": "python",
   "name": "python3"
  },
  "language_info": {
   "codemirror_mode": {
    "name": "ipython",
    "version": 3
   },
   "file_extension": ".py",
   "mimetype": "text/x-python",
   "name": "python",
   "nbconvert_exporter": "python",
   "pygments_lexer": "ipython3",
   "version": "3.12.2"
  }
 },
 "nbformat": 4,
 "nbformat_minor": 2
}
