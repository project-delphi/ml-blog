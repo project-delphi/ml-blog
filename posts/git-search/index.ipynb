{
 "cells": [
  {
   "cell_type": "raw",
   "metadata": {},
   "source": []
  },
  {
   "cell_type": "raw",
   "metadata": {},
   "source": [
    "---\n",
    "title: \"Git Repository Search\"\n",
    "author: \"Ravi Kalia\"\n",
    "date: \"2024-05-11\"\n",
    "categories: [graphs, code, development, environment]\n",
    "image: \"./git-search.jpg\"\n",
    "draft: false\n",
    "format:\n",
    "    html:\n",
    "        code-copy: true\n",
    "        code-fold: true \n",
    "        toc: true\n",
    "        toc-depth: 2\n",
    "---"
   ]
  },
  {
   "cell_type": "markdown",
   "metadata": {},
   "source": [
    "# Git Repo Search\n",
    "\n",
    "\n",
    "![\"Robot Magnifying Glass Search\"](./git-search.jpg)\n",
    "\n",
    "Photo by <a href=\"https://unsplash.com/@growtika?utm_content=creditCopyText&utm_medium=referral&utm_source=unsplash\">Growtika</a> on <a href=\"https://unsplash.com/photos/a-white-robot-holding-a-magnifying-glass-g5kpSCf3dOs?utm_content=creditCopyText&utm_medium=referral&utm_source=unsplash\">Unsplash</a>\n",
    "  \n",
    "\n",
    "There are many ways to search a repository, particularly a Git Repo. We will outline some use cases with examples for a \"Unix-like\" file directory and also a Git Repo.\n",
    "\n",
    "\n",
    "Let's do this for a library I've been looking at. \n",
    "\n",
    "Some unit tests break on Apple Silicon for the open source library [pyg](pyg.org). The maintainer disabled some tests. I want to find them. It has something to do with PyTorch not fully supporting compressed sparse tensor representations on Apple's `mps` framework for Apple Silicon. I received the following note:\n",
    "\n",
    ">there are a few tests that were disabled around `test_sparse` \n",
    "\n",
    "and\n",
    "\n",
    ">the `convert_coo_to_csr_indices`  doesn't seem to be supported.\n",
    "\n",
    "It's likely that test_sparse and convert_coo_to_csr_indices are variable names or tokens inside a code file of the git repository. However, for illustration, we will assume that they could be anywhere in the git repo (filenames, directory names, commit messages, variable names, past commits, current directory).\n",
    "\n",
    "Time to search. The repo can be cloned locally from [here](https://github.com/pyg-team/pytorch_geometric/) and then cd into it.\n"
   ]
  },
  {
   "cell_type": "code",
   "execution_count": 60,
   "metadata": {},
   "outputs": [],
   "source": [
    "import os\n",
    "\n",
    "os.chdir(\"/Users/ravikalia/Code/github.com/ml-blog/posts/git-search/\")"
   ]
  },
  {
   "cell_type": "code",
   "execution_count": 61,
   "metadata": {},
   "outputs": [
    {
     "name": "stdout",
     "output_type": "stream",
     "text": [
      "/Users/ravikalia/Code/github.com/ml-blog/posts/git-search\n"
     ]
    }
   ],
   "source": [
    "print(os.getcwd())"
   ]
  },
  {
   "cell_type": "code",
   "execution_count": 62,
   "metadata": {},
   "outputs": [
    {
     "name": "stderr",
     "output_type": "stream",
     "text": [
      "Cloning into 'pytorch_geometric'...\n"
     ]
    }
   ],
   "source": [
    "%%bash\n",
    "rm -rf pytorch_geometric\n",
    "git clone https://github.com/pyg-team/pytorch_geometric.git\n",
    "git fetch --all"
   ]
  },
  {
   "cell_type": "markdown",
   "metadata": {},
   "source": [
    "Let's change the directory to the root of the cloned repo, which makes searching easier"
   ]
  },
  {
   "cell_type": "code",
   "execution_count": 63,
   "metadata": {},
   "outputs": [],
   "source": [
    "os.chdir(\"./pytorch_geometric\")"
   ]
  },
  {
   "cell_type": "markdown",
   "metadata": {},
   "source": [
    "## Filename in \"Unix-like\" Directory\n",
    "\n",
    "We can look for the string `test_sparse` in filenames using the shell command line tool `find`."
   ]
  },
  {
   "cell_type": "code",
   "execution_count": 64,
   "metadata": {},
   "outputs": [
    {
     "name": "stdout",
     "output_type": "stream",
     "text": [
      "./test/utils/test_sparse.py\n"
     ]
    }
   ],
   "source": [
    "%%bash\n",
    "find . -name \"*test_sparse*\" -o -name \"*convert_coo_to_csr_indices*\""
   ]
  },
  {
   "cell_type": "markdown",
   "metadata": {},
   "source": [
    "great, so we have a file to look at. Let's look at the file `test_sparse.py`. It seems to be unit tests related to sparsity, possibly testing utility functions for converting between sparse tensor representations. "
   ]
  },
  {
   "cell_type": "markdown",
   "metadata": {},
   "source": [
    "## String in \"Unix-like\" Directory\n",
    "\n",
    "String search is a bit more complicated. `grep` is an awesome tool for this. \n"
   ]
  },
  {
   "cell_type": "code",
   "execution_count": 65,
   "metadata": {},
   "outputs": [
    {
     "name": "stdout",
     "output_type": "stream",
     "text": [
      "./test/utils/test_cross_entropy.py:9:def test_sparse_cross_entropy_multiclass(with_edge_label_weight):\n",
      "./test/utils/test_cross_entropy.py:32:def test_sparse_cross_entropy_multilabel(with_edge_label_weight):\n",
      "./test/test_edge_index.py:102:def test_sparse_tensor(dtype, device):\n",
      "./test/test_edge_index.py:992:def test_sparse_narrow(device):\n",
      "./test/test_edge_index.py:1026:def test_sparse_resize(device):\n",
      "./torch_geometric/testing/asserts.py:24:    test_sparse_layouts: Optional[List[Union[str, torch.layout]]] = None,\n",
      "./torch_geometric/testing/asserts.py:49:        test_sparse_layouts (List[str or int], optional): The sparse layouts to\n",
      "./torch_geometric/testing/asserts.py:62:    if test_sparse_layouts is None:\n",
      "./torch_geometric/testing/asserts.py:63:        test_sparse_layouts = SPARSE_LAYOUTS\n",
      "./torch_geometric/testing/asserts.py:74:    if len(test_sparse_layouts) > 0 and sparse_size is None:\n",
      "./torch_geometric/testing/asserts.py:75:        raise ValueError(f\"Got sparse layouts {test_sparse_layouts}, but no \"\n",
      "./torch_geometric/testing/asserts.py:93:    for layout in (test_sparse_layouts or []):\n",
      "Binary file ./.git/index matches\n"
     ]
    }
   ],
   "source": [
    "%%bash\n",
    "grep -rn . -e \"test_sparse\" -e \"convert_coo_to_csr_indices\""
   ]
  },
  {
   "cell_type": "markdown",
   "metadata": {},
   "source": [
    "Many locations matched to 3 files. It's possible they aren't all relevant for testing purpose. The `.git/index` is a binary file, which is used by git to store information about the repository, it's not relevant for our task. "
   ]
  },
  {
   "cell_type": "markdown",
   "metadata": {},
   "source": [
    "## What is Git\n",
    "\n",
    "Git is a distributed version control system. It is a tool that tracks changes in files and directories. At user-defined snapshots in time, called commits, it records the changes made to the files and directories. As a consequence it is possible to search for changes in the repository across snapshots. \n",
    "\n",
    "\n",
    "Along with `grep` and `find`, there are `git` specific tools for searching snapshots of the repo, commit messages and filtering by `date` and `author`, such as:\n",
    "\n",
    "* `git ls-files`\n",
    "* `git log`\n",
    "* `git grep`"
   ]
  },
  {
   "cell_type": "markdown",
   "metadata": {},
   "source": [
    "## Filename in Git Repository\n",
    "\n",
    "The working tree is what you see when you list the files in your project's directory that are being tracked. It's the version of your project that you're currently working on. The git checkout command is used to update the working directory with a specific commit, matching the snapshot recorded in the commit. Untracked files are not affected by git checkout.\n",
    "\n",
    "The `git ls-files` command lists the files in the working tree that are being tracked by git. The filenames can be searched for a string using the `grep` command."
   ]
  },
  {
   "cell_type": "code",
   "execution_count": 66,
   "metadata": {},
   "outputs": [
    {
     "name": "stdout",
     "output_type": "stream",
     "text": [
      "test/utils/test_sparse.py\n"
     ]
    }
   ],
   "source": [
    "%%bash\n",
    "git ls-files | grep \"test_sparse\""
   ]
  },
  {
   "cell_type": "markdown",
   "metadata": {},
   "source": [
    "There's not much else that can be done with `git ls-files` for searching filenames over snapshot commits. Some ways to search for filenames in the git repository across commits are:"
   ]
  },
  {
   "cell_type": "markdown",
   "metadata": {},
   "source": [
    "log commit messages with commit where the filename was changed."
   ]
  },
  {
   "cell_type": "code",
   "execution_count": 67,
   "metadata": {},
   "outputs": [
    {
     "name": "stdout",
     "output_type": "stream",
     "text": [
      "commit 62fa51e0000913e1b3023b817485d2b248322539\n",
      "Author: Matthias Fey <matthias.fey@tu-dortmund.de>\n",
      "Date:   Sun Dec 24 11:56:08 2023 +0100\n",
      "\n",
      "    Accelerate concatenation of `torch.sparse` tensors (#8670)\n",
      "    \n",
      "    Fixes #8664\n",
      "\n",
      "commit 1c89e751804d1eb2fb626dabc677198a1878c34d\n",
      "Author: Matthias Fey <matthias.fey@tu-dortmund.de>\n",
      "Date:   Wed Oct 4 09:59:36 2023 +0200\n",
      "\n",
      "    Skip TorchScript bug for PyTorch < 1.12 (#8123)\n",
      "\n",
      "commit 51c50c2f9d3372de34f4ac3617f396384a36558c\n",
      "Author: filipekstrm <filip.ekstrom@hotmail.com>\n",
      "Date:   Tue Oct 3 20:39:04 2023 +0200\n",
      "\n",
      "    Added `mask` argument to `dense_to_sparse` (#8117)\n",
      "    \n",
      "    Added optional argument mask to dense_to_sparse so that it can correctly\n",
      "    invert a call to to_dense_adj by returning the correct edge_index in\n",
      "    case there are graphs with different number of nodes (and hence, the\n",
      "    dense adjacency matrix contains some padding)\n",
      "    \n",
      "    ---------\n",
      "    \n",
      "    Co-authored-by: Filip Ekström Kelvinius <filek51@lnx00195.ad.liu.se>\n",
      "    Co-authored-by: rusty1s <matthias.fey@tu-dortmund.de>\n",
      "\n",
      "commit 2e0e7e35ce0e5a3dbe951ced527aa436e591bccd\n",
      "Author: Matthias Fey <matthias.fey@tu-dortmund.de>\n",
      "Date:   Thu Aug 24 08:28:32 2023 +0200\n",
      "\n",
      "    [Test] PyTorch 2.1 supports gradients on CSR matrices (#7924)\n",
      "\n",
      "commit f80afef6fc27b8534261659ebdfd10efed8f4540\n",
      "Author: Matthias Fey <matthias.fey@tu-dortmund.de>\n",
      "Date:   Fri Jul 7 06:27:56 2023 +0700\n",
      "\n",
      "    Replace `torch.Tensor`calls (3/4) (#7697)\n",
      "\n",
      "commit c0eb49f95198183e8cf15007bbd286c9ced7829a\n",
      "Author: Matthias Fey <matthias.fey@tu-dortmund.de>\n",
      "Date:   Thu Jun 29 06:10:56 2023 +0200\n",
      "\n",
      "    Test PyG on PyTorch >= 1.11 (#7656)\n",
      "\n",
      "commit 1e57a6c69cf15868bccc10b79479fdc4e7468211\n",
      "Author: Matthias Fey <matthias.fey@tu-dortmund.de>\n",
      "Date:   Sun Jun 4 11:27:47 2023 +0200\n",
      "\n",
      "    Update the documentation of `GraphMaskExplainer` (#7504)\n",
      "\n",
      "commit 0d35d8d9f0ad73b05a0bfd02e86caa7131f64177\n",
      "Author: Matthias Fey <matthias.fey@tu-dortmund.de>\n",
      "Date:   Thu May 11 15:21:49 2023 +0200\n",
      "\n",
      "    Test PyTorch `coalesce` bug on `torch.load` (#7351)\n",
      "\n",
      "commit 93f9f590bb62a848e3f57b8fcaee5fd48c768436\n",
      "Author: Matthias Fey <matthias.fey@tu-dortmund.de>\n",
      "Date:   Sun Mar 26 16:14:07 2023 +0200\n",
      "\n",
      "    Accelerated sparse tensor conversions (#7042)\n",
      "\n",
      "commit c78c5b217f9fb652555512405fb561c33ae0b439\n",
      "Author: Matthias Fey <matthias.fey@tu-dortmund.de>\n",
      "Date:   Sat Mar 25 16:59:59 2023 +0100\n",
      "\n",
      "    Test against nightly PyTorch releases (#7036)\n",
      "\n",
      "commit c78f358bb664a15650c68113f7108be89aca98da\n",
      "Author: Matthias Fey <matthias.fey@tu-dortmund.de>\n",
      "Date:   Thu Mar 23 07:05:11 2023 +0100\n",
      "\n",
      "    Fix full test (#7007)\n",
      "\n",
      "commit 153cb5cc6bd014b8fb453c5457a86d91f4b4483d\n",
      "Author: Matthias Fey <matthias.fey@tu-dortmund.de>\n",
      "Date:   Sat Mar 18 23:16:05 2023 +0100\n",
      "\n",
      "    Add PyTorch 1.13 CI tests (#6960)\n",
      "\n",
      "commit 9bda455cf0527dad6ee872175fa1f9a8b036fc80\n",
      "Author: Matthias Fey <matthias.fey@tu-dortmund.de>\n",
      "Date:   Sat Mar 18 11:25:40 2023 +0100\n",
      "\n",
      "    Added `to_torch_csc_tensor` functionality (#6951)\n",
      "\n",
      "commit d31a275b2d688bc5c8e4df17736ff3b6bbcbe965\n",
      "Author: Matthias Fey <matthias.fey@tu-dortmund.de>\n",
      "Date:   Fri Mar 17 10:31:41 2023 +0100\n",
      "\n",
      "    Fix PyTorch 2.0 warnings and add `torch.sparse_csr` utilities (#6939)\n",
      "\n",
      "commit f865ab56cb4a8360d428978d67bd77ebdf01a15c\n",
      "Author: Jintang Li <cnljt@outlook.com>\n",
      "Date:   Fri Feb 17 22:40:05 2023 +0800\n",
      "\n",
      "    Added `utils.to_edge_index` to convert sparse tensors to edge indices and edge attributes (#6728)\n",
      "    \n",
      "    This PR implements `to_edge_index` to simplify the conversion between\n",
      "    PyTorch Sparse Tensor and edge indices. Perhaps there is a better name\n",
      "    than `to_edge_index`?\n",
      "    \n",
      "    ---------\n",
      "    \n",
      "    Co-authored-by: rusty1s <matthias.fey@tu-dortmund.de>\n",
      "\n",
      "commit 0c8f35fa9458bc4eb8ce43c3694ba35481623dde\n",
      "Author: Matthias Fey <matthias.fey@tu-dortmund.de>\n",
      "Date:   Mon Jan 30 16:22:46 2023 +0100\n",
      "\n",
      "    Bipartite `dense_to_sparse` support (#6546)\n",
      "    \n",
      "    Fixes #6507\n",
      "\n",
      "commit 01037dbbedd48b4bff665f66cae9a5f23dad2e0e\n",
      "Author: Jintang Li <cnljt@outlook.com>\n",
      "Date:   Tue Nov 22 03:09:14 2022 +0800\n",
      "\n",
      "    Add `is_sparse` and `to_torch_coo_tensor` (#6003)\n",
      "    \n",
      "    This PR aims to\n",
      "    + Add `is_sparse` to check if the input is either `torch.sparse.Tensor`\n",
      "    or `torch_sparse.SparseTensor`\n",
      "    + Add `to_torch_coo_tensor` to convert `edge_index` and `edge_weight` to\n",
      "    `torch.sparse.Tensor` (in COO format)\n",
      "    + Move `is_torch_sparse_tensor` from `torch_sparse_tensor.py` to\n",
      "    `sparse.py`. I think this makes the structure in `torch_geometric.utils`\n",
      "    clearer.\n",
      "    + Clean up duplicated code in `message_passing.py`.\n",
      "    \n",
      "    Co-authored-by: rusty1s <matthias.fey@tu-dortmund.de>\n",
      "\n",
      "commit 0be0eca73920ca19d8fc99c963e6b49ff86c75f6\n",
      "Author: Akash Vartak <cg82493@umbc.edu>\n",
      "Date:   Thu Oct 13 14:30:35 2022 -0400\n",
      "\n",
      "    [Type Hints] `utils.dense_to_sparse` (#5683)\n",
      "    \n",
      "    Co-authored-by: Matthias Fey <matthias.fey@tu-dortmund.de>\n",
      "\n",
      "commit 66b17806b1f4a2008e8be766064d9ef9a883ff03\n",
      "Author: rusty1s <matthias.fey@tu-dortmund.de>\n",
      "Date:   Fri Jan 21 11:34:22 2022 +0100\n",
      "\n",
      "    sort imports via isort\n",
      "\n",
      "commit f29f27a26a97304995a02f92716c8e2d858f2051\n",
      "Author: pre-commit-ci[bot] <66853113+pre-commit-ci[bot]@users.noreply.github.com>\n",
      "Date:   Fri Jan 21 10:31:10 2022 +0000\n",
      "\n",
      "    [pre-commit.ci] auto fixes from pre-commit.com hooks\n",
      "    \n",
      "    for more information, see https://pre-commit.ci\n",
      "\n",
      "commit ff0ff6190b66a9a40720073b4eefc8fc92d726ca\n",
      "Author: rusty1s <matthias.fey@tu-dortmund.de>\n",
      "Date:   Mon May 24 11:27:18 2021 +0200\n",
      "\n",
      "    dense_to_sparse with batched adjacencies\n",
      "\n",
      "commit 550c6319261a56b87112837aae392927f401aed1\n",
      "Author: rusty1s <matthias.fey@tu-dortmund.de>\n",
      "Date:   Sun Jun 16 18:08:31 2019 +0200\n",
      "\n",
      "    dense to sparse impl\n",
      "\n",
      "commit d01ea9dab80be0a698fbdac341d3f777013ac527\n",
      "Author: rusty1s <matthias.fey@tu-dortmund.de>\n",
      "Date:   Mon Jun 10 19:30:51 2019 +0200\n",
      "\n",
      "    to dense adj implementation + removal of unused convert methods\n",
      "\n",
      "commit 1c8ea5cdac21e8dd35b1a2c43c9f644900d65937\n",
      "Author: rusty1s <matthias.fey@tu-dortmund.de>\n",
      "Date:   Thu Mar 28 17:33:44 2019 +0100\n",
      "\n",
      "    test sparse\n",
      "\n",
      "commit 2c01aa22c697b4326db05b7729f85613ebb8a8a0\n",
      "Author: rusty1s <matthias.fey@tu-dortmund.de>\n",
      "Date:   Fri Dec 28 17:04:26 2018 +0100\n",
      "\n",
      "    test utils\n"
     ]
    }
   ],
   "source": [
    "%%bash\n",
    "git log --all -- *test_sparse*"
   ]
  },
  {
   "cell_type": "markdown",
   "metadata": {},
   "source": [
    "## String in Git Repository\n",
    "\n",
    "If we want to search for a string across commits, the main power of git comes from the `git log` and `git grep` commands.\n",
    "\n"
   ]
  },
  {
   "cell_type": "code",
   "execution_count": 83,
   "metadata": {},
   "outputs": [
    {
     "name": "stdout",
     "output_type": "stream",
     "text": [
      "commit dba9659f6c4f29fd2be1f50b5ea12a29a926082f\n",
      "Author: Matthias Fey <matthias.fey@tu-dortmund.de>\n",
      "Date:   Thu Feb 29 14:04:19 2024 +0100\n",
      "\n",
      "    Fix `EdgeIndex.resize_` linting issues (#8993)\n",
      "\n",
      "commit 123e38ef6715f75ed9198d256cc2cb984b431630\n",
      "Author: Poovaiah Palangappa <98763718+pmpalang@users.noreply.github.com>\n",
      "Date:   Sun Feb 11 03:32:44 2024 -0800\n",
      "\n",
      "    Example of a recommender system (#8546)\n",
      "    \n",
      "    Hi Everyone,\n",
      "    \n",
      "    I'm adding a recommender system example with the following salient\n",
      "    features\n",
      "    \n",
      "    1. Dataset MovieLens – a heterogenous use case\n",
      "    2. Demonstrates the use of edge based temporal sampling\n",
      "    3. Visualization\n",
      "      t-SNE based visualization (--visualize_emb)\n",
      "    4. Uses torch_geometric.nn.pool.MIPSKNNIndex for getting recommedations\n",
      "    5. Integration of the LinkPred metrics -- precision@k and ndcg@k\n",
      "    \n",
      "    Thanks,\n",
      "    Poovaiah\n",
      "    \n",
      "    ---------\n",
      "    \n",
      "    Co-authored-by: pre-commit-ci[bot] <66853113+pre-commit-ci[bot]@users.noreply.github.com>\n",
      "    Co-authored-by: Akihiro Nitta <nitta@akihironitta.com>\n",
      "    Co-authored-by: rusty1s <matthias.fey@tu-dortmund.de>\n",
      "\n",
      "commit 23bbc128d3df42fb11f187d0abd1c10eb569b3a0\n",
      "Author: Matthias Fey <matthias.fey@tu-dortmund.de>\n",
      "Date:   Sat Dec 30 17:10:10 2023 +0100\n",
      "\n",
      "    Allow `EdgeIndex` creation from `torch.sparse` tensors (#8690)\n",
      "\n",
      "commit ed9698d0bff2049413473c87f26774bedd190867\n",
      "Author: Matthias Fey <matthias.fey@tu-dortmund.de>\n",
      "Date:   Mon Dec 4 11:07:31 2023 +0100\n",
      "\n",
      "    Include `mypy` in `pre-commit` (#8520)\n",
      "    \n",
      "    Co-authored-by: Akihiro Nitta <nitta@akihironitta.com>\n",
      "\n",
      "commit 801723efacee5ad2597256ba0d9934600512e626\n",
      "Author: Matthias Fey <matthias.fey@tu-dortmund.de>\n",
      "Date:   Sat May 27 13:20:34 2023 +0200\n",
      "\n",
      "    Sparse `cross_entropy` implementation (#7447)\n",
      "\n",
      "commit 1dadc070565ae45ce3a00f150b2fe50809c49959\n",
      "Author: Matthias Fey <matthias.fey@tu-dortmund.de>\n",
      "Date:   Mon Apr 10 02:50:51 2023 +0100\n",
      "\n",
      "    Helper assert function to test for module equivalence and invariance (#7144)\n",
      "\n",
      "commit 7b4892781e2198ad99a8655da03133505619040a\n",
      "Author: rusty1s <matthias.fey@tu-dortmund.de>\n",
      "Date:   Sun Jun 28 11:23:29 2020 +0200\n",
      "\n",
      "    arma conv jittable\n",
      "\n",
      "commit 93fab2e53dbd812c8cb08fc7a789ec0ace9e8768\n",
      "Author: rusty1s <matthias.fey@tu-dortmund.de>\n",
      "Date:   Mon Jun 8 15:26:35 2020 +0200\n",
      "\n",
      "    gcn conv\n",
      "\n",
      "commit d01ea9dab80be0a698fbdac341d3f777013ac527\n",
      "Author: rusty1s <matthias.fey@tu-dortmund.de>\n",
      "Date:   Mon Jun 10 19:30:51 2019 +0200\n",
      "\n",
      "    to dense adj implementation + removal of unused convert methods\n",
      "\n",
      "commit 2c01aa22c697b4326db05b7729f85613ebb8a8a0\n",
      "Author: rusty1s <matthias.fey@tu-dortmund.de>\n",
      "Date:   Fri Dec 28 17:04:26 2018 +0100\n",
      "\n",
      "    test utils\n",
      "\n",
      "commit eb4260ce0154d2804f1e552db5be1d607a21d87d\n",
      "Author: rusty1s <matthias.fey@tu-dortmund.de>\n",
      "Date:   Fri Apr 13 15:58:53 2018 +0200\n",
      "\n",
      "    outsourced spline_conv, new voxel grid implementation\n",
      "\n",
      "commit 544f4ad0e254e8fd7c96570756ac68ea15e6fe1d\n",
      "Author: rusty1s <matthias.fey@tu-dortmund.de>\n",
      "Date:   Mon Apr 9 09:05:36 2018 +0200\n",
      "\n",
      "    fixed tests\n"
     ]
    }
   ],
   "source": [
    "%%bash\n",
    "git log -S \"test_sparse\" --all"
   ]
  },
  {
   "cell_type": "markdown",
   "metadata": {},
   "source": [
    "to be specific to a branch, replace --all with the branch name (`master` in this case)"
   ]
  },
  {
   "cell_type": "code",
   "execution_count": 82,
   "metadata": {},
   "outputs": [],
   "source": [
    "%%bash\n",
    "git log master -S \"convert_coo_to_csr_indices\" "
   ]
  },
  {
   "cell_type": "code",
   "execution_count": 81,
   "metadata": {},
   "outputs": [
    {
     "name": "stdout",
     "output_type": "stream",
     "text": [
      "801723efa\n",
      "test/utils/test_cross_entropy.py\n",
      "\n",
      "1dadc0705\n",
      "torch_geometric/testing/asserts.py\n",
      "\n",
      "2c01aa22c\n",
      "test/utils/test_sparse.py\n"
     ]
    }
   ],
   "source": [
    "%%bash\n",
    "git log master -S \"test_sparse\" --pretty=format:\"%h\" --name-only --diff-filter=A"
   ]
  },
  {
   "cell_type": "markdown",
   "metadata": {},
   "source": [
    "With regular expression search use G (`*` glob is not needed as it's implied with regular expressions)."
   ]
  },
  {
   "cell_type": "code",
   "execution_count": 80,
   "metadata": {},
   "outputs": [],
   "source": [
    "%%bash\n",
    "git log -G \"convert_coo_to_csr_indices\" --pretty=format:\"%h\" --name-only"
   ]
  },
  {
   "cell_type": "code",
   "execution_count": 79,
   "metadata": {},
   "outputs": [
    {
     "name": "stdout",
     "output_type": "stream",
     "text": [
      "390942fc4\n",
      "torch_geometric/data/edge_index.py\n",
      "\n",
      "699120e25\n",
      "torch_geometric/data/edge_index.py\n",
      "\n",
      "a6f0f4947\n",
      "torch_geometric/data/edge_index.py\n",
      "\n",
      "cf786b735\n",
      "torch_geometric/data/edge_index.py\n",
      "\n",
      "b825dc637\n",
      "torch_geometric/data/edge_index.py\n",
      "\n",
      "b5ecfd9b4\n",
      "torch_geometric/data/graph_store.py\n",
      "torch_geometric/nn/conv/cugraph/base.py\n",
      "torch_geometric/nn/conv/rgcn_conv.py\n",
      "torch_geometric/nn/dense/linear.py\n",
      "torch_geometric/sampler/utils.py\n",
      "torch_geometric/transforms/gdc.py\n",
      "torch_geometric/utils/sparse.py\n",
      "\n",
      "a73043736\n",
      "torch_geometric/data/graph_store.py\n",
      "torch_geometric/nn/conv/rgcn_conv.py\n",
      "torch_geometric/nn/dense/linear.py\n",
      "\n",
      "d29154558\n",
      "torch_geometric/nn/conv/cugraph/base.py\n",
      "\n",
      "886352bd6\n",
      "torch_geometric/transforms/gdc.py\n",
      "\n",
      "ce2a84f4d\n",
      "torch_geometric/sampler/utils.py\n",
      "\n",
      "0b3f8e98a\n",
      "torch_geometric/sampler/utils.py\n"
     ]
    }
   ],
   "source": [
    "%%bash\n",
    "git log -G \"coo_to_csr\" --pretty=format:\"%h\" --name-only"
   ]
  },
  {
   "cell_type": "code",
   "execution_count": 88,
   "metadata": {},
   "outputs": [],
   "source": [
    "%%bash\n",
    "git log -G \"convert_coo\" --pretty=format:\"%h\" --name-only"
   ]
  },
  {
   "cell_type": "code",
   "execution_count": 90,
   "metadata": {},
   "outputs": [],
   "source": [
    "%%bash\n",
    "git log -G \"csr_indices\" --pretty=format:\"%h\" --name-only"
   ]
  },
  {
   "cell_type": "code",
   "execution_count": null,
   "metadata": {},
   "outputs": [
    {
     "name": "stdout",
     "output_type": "stream",
     "text": [
      "dba9659f6\n",
      "test/test_edge_index.py\n",
      "\n",
      "123e38ef6\n",
      "test/test_edge_index.py\n",
      "\n",
      "23bbc128d\n",
      "test/test_edge_index.py\n",
      "\n",
      "ed9698d0b\n",
      "torch_geometric/testing/asserts.py\n",
      "\n",
      "1725f1436\n",
      "test/utils/test_cross_entropy.py\n",
      "\n",
      "801723efa\n",
      "test/utils/test_cross_entropy.py\n",
      "\n",
      "1dadc0705\n",
      "torch_geometric/testing/asserts.py\n",
      "\n",
      "7b4892781\n",
      "test/nn/conv/test_gcn_conv.py\n",
      "\n",
      "72e8ef33d\n",
      "test/nn/conv/test_gcn_conv.py\n",
      "\n",
      "93fab2e53\n",
      "test/nn/conv/test_gcn_conv.py\n",
      "\n",
      "d01ea9dab\n",
      "test/utils/test_sparse.py\n",
      "\n",
      "2c01aa22c\n",
      "test/utils/test_sparse.py\n",
      "\n",
      "eb4260ce0\n",
      "torch_geometric/nn/functional/pool/voxel_pool_test.py\n",
      "\n",
      "544f4ad0e\n",
      "torch_geometric/nn/functional/pool/voxel_pool_test.py\n"
     ]
    }
   ],
   "source": [
    "%%bash\n",
    "git log master -G\"test_sparse\" --pretty=format:\"%h\" --name-only"
   ]
  },
  {
   "cell_type": "markdown",
   "metadata": {},
   "source": [
    "## Search for Author, Date, and String in Git Commit Messages"
   ]
  },
  {
   "cell_type": "code",
   "execution_count": 92,
   "metadata": {},
   "outputs": [
    {
     "name": "stdout",
     "output_type": "stream",
     "text": [
      "commit f0e4c829662df9eb67fd5c0abda002c9b7cd0afb\n",
      "Author: Ravi Kalia <ravkalia@gmail.com>\n",
      "Date:   Sun Mar 24 08:05:12 2024 -0500\n",
      "\n",
      "    Replace `withCUDA` decorator: `withDevice` (#9082)\n",
      "    \n",
      "    Replace `withCUDA` for a `withDevice` decorator.\n",
      "    \n",
      "    Change variable name from devices to processors to reduce confusion\n",
      "    against pytorch api (backends/devices) and reflect the hardware choices.\n",
      "    \n",
      "    Note that at this time:\n",
      "    \n",
      "    ## Hardware\n",
      "    3 repertoires of hardware can be used to run pyTorch code:\n",
      "    \n",
      "    * CPU only\n",
      "    * CPU and GPU\n",
      "    * Unified Memory Single Chip\n",
      "    \n",
      "    ## Backend Software\n",
      "    The backend is the software framework used to process tensors by\n",
      "    pytorch. There are several. For example, the following are the backends\n",
      "    available today:\n",
      "    \n",
      "    \n",
      "    ```python\n",
      "    torch.backends.cpu\n",
      "    torch.backends.cuda\n",
      "    torch.backends.cudnn\n",
      "    torch.backends.mha\n",
      "    torch.backends.mps\n",
      "    torch.backends.mkl\n",
      "    torch.backends.mkldnn\n",
      "    torch.backends.nnpack\n",
      "    torch.backends.openmp\n",
      "    torch.backends.opt_einsum\n",
      "    torch.backends.xeon\n",
      "    ```\n",
      "    `mps` is the only backend which works with the unified memory single\n",
      "    chip - currently Apple's M series.\n",
      "    \n",
      "    Hardware is determined by `torch.cuda.is_available()` and\n",
      "    `torch.backends.mps.is_available()` which confuses when looking up\n",
      "    `backends` and hardaware types/architectures/vendors. Introducing\n",
      "    `processor/processors` variable name reduces cognitive load, while\n",
      "    allowing future developments from vendors/frameworks.\n",
      "    \n",
      "    \n",
      "    \n",
      "    ~~Modify `withCUDA` decorator to be single purpose. Downstream\n",
      "    comprehensive distributed device and backend testing can be developed\n",
      "    later.~~\n",
      "    \n",
      "    ~~Redundant code was removed, this doesn't affect other components.~~\n",
      "    \n",
      "    ---------\n",
      "    \n",
      "    Co-authored-by: pre-commit-ci[bot] <66853113+pre-commit-ci[bot]@users.noreply.github.com>\n",
      "    Co-authored-by: rusty1s <matthias.fey@tu-dortmund.de>\n",
      "\n",
      "commit 1675b019c7182dbdc4970561f0dbff6dec3ee299\n",
      "Author: Ravi Kalia <ravkalia@gmail.com>\n",
      "Date:   Fri Mar 8 14:44:56 2024 -0500\n",
      "\n",
      "    feat(pyproject.toml): update & sort (#9024)\n",
      "    \n",
      "    - Add 'ipython' and 'matplotlib-inline' to dev dependencies\n",
      "    - Reorder 'torch_geometric[test]' in dev dependencies list\n",
      "    \n",
      "    Introduced for developer install to pass tests on apple silicon\n",
      "    \n",
      "    \n",
      "    Notes here:\n",
      "    \n",
      "    \n",
      "    https://project-delphi.github.io/ml-blog/posts/developing-pytorch-geometric-on-m1/\n",
      "\n",
      "commit 25b2f208e671eeec285bfafa2e246ea0a234b312\n",
      "Author: Ravi Kalia <ravkalia@gmail.com>\n",
      "Date:   Wed Feb 21 11:11:33 2024 -0500\n",
      "\n",
      "    docs: fix broken links to source of graph classification datasets (#8946)\n",
      "    \n",
      "    **Update Broken Dataset Links in Documentation**\n",
      "    \n",
      "    This PR addresses broken links in the documentation that pointed to the\n",
      "    common benchmark datasets. The links were updated to point to the\n",
      "    correct URL.\n",
      "    \n",
      "    Changes were made in the following files:\n",
      "    \n",
      "    1. `benchmark/kernel/README.md`\n",
      "    2. `docs/source/get_started/introduction.rst`\n",
      "    \n",
      "    The specific changes are as follows:\n",
      "    \n",
      "    In `benchmark/kernel/README.md`:\n",
      "    \n",
      "    ```diff\n",
      "    - Evaluation script for various methods on [common benchmark datasets](http://graphkernels.cs.tu-dortmund.de) via 10-fold cross validation, where a training fold is randomly sampled to serve as a validation set.\n",
      "    + Evaluation script for various methods on [common benchmark datasets](https://chrsmrrs.github.io/datasets/) via 10-fold cross validation, where a training fold is randomly sampled to serve as a validation set.Update Broken Dataset Links in Documentation\n",
      "    ```\n",
      "    \n"
     ]
    },
    {
     "name": "stdout",
     "output_type": "stream",
     "text": [
      "    In `docs/source/get_started/introduction.rst`:\n",
      "    \n",
      "    ```diff\n",
      "    - :pyg:`PyG` contains a large number of common benchmark datasets, *e.g.*, all Planetoid datasets (Cora, Citeseer, Pubmed), all graph classification datasets from `http://graphkernels.cs.tu-dortmund.de <http://graphkernels.cs.tu-dortmund.de/>`_ and their `cleaned versions <https://github.com/nd7141/graph_datasets>`_, the QM7 and QM9 dataset, and a handful of 3D mesh/point cloud datasets like FAUST, ModelNet10/40 and ShapeNet.\n",
      "    + :pyg:`PyG` contains a large number of common benchmark datasets, *e.g.*, all Planetoid datasets (Cora, Citeseer, Pubmed), all graph classification datasets from `TUDatasets https://chrsmrrs.github.io/datasets/`_ and their `cleaned versions <https://github.com/nd7141/graph_datasets>`_, the QM7 and QM9 dataset, and a handful of 3D mesh/point cloud datasets like FAUST, ModelNet10/40 and ShapeNet.\n",
      "    ```\n",
      "    \n",
      "    Please review these changes and merge the PR if everything is in order\n",
      "    or let me know if there are any issues or further changes needed.\n",
      "    \n",
      "    ---------\n",
      "    \n",
      "    Co-authored-by: Ravi Kalia <rkalia.consultant@kriyatx.com>\n",
      "    Co-authored-by: Matthias Fey <matthias.fey@tu-dortmund.de>\n"
     ]
    }
   ],
   "source": [
    "%%bash\n",
    "git log --author=\"ravkalia\""
   ]
  },
  {
   "cell_type": "code",
   "execution_count": 95,
   "metadata": {},
   "outputs": [
    {
     "name": "stdout",
     "output_type": "stream",
     "text": [
      "commit 25b2f208e671eeec285bfafa2e246ea0a234b312\n",
      "Author: Ravi Kalia <ravkalia@gmail.com>\n",
      "Date:   Wed Feb 21 11:11:33 2024 -0500\n",
      "\n",
      "    docs: fix broken links to source of graph classification datasets (#8946)\n",
      "    \n",
      "    **Update Broken Dataset Links in Documentation**\n",
      "    \n",
      "    This PR addresses broken links in the documentation that pointed to the\n",
      "    common benchmark datasets. The links were updated to point to the\n",
      "    correct URL.\n",
      "    \n",
      "    Changes were made in the following files:\n",
      "    \n",
      "    1. `benchmark/kernel/README.md`\n",
      "    2. `docs/source/get_started/introduction.rst`\n",
      "    \n",
      "    The specific changes are as follows:\n",
      "    \n",
      "    In `benchmark/kernel/README.md`:\n",
      "    \n",
      "    ```diff\n",
      "    - Evaluation script for various methods on [common benchmark datasets](http://graphkernels.cs.tu-dortmund.de) via 10-fold cross validation, where a training fold is randomly sampled to serve as a validation set.\n",
      "    + Evaluation script for various methods on [common benchmark datasets](https://chrsmrrs.github.io/datasets/) via 10-fold cross validation, where a training fold is randomly sampled to serve as a validation set.Update Broken Dataset Links in Documentation\n",
      "    ```\n",
      "    \n",
      "    In `docs/source/get_started/introduction.rst`:\n",
      "    \n",
      "    ```diff\n",
      "    - :pyg:`PyG` contains a large number of common benchmark datasets, *e.g.*, all Planetoid datasets (Cora, Citeseer, Pubmed), all graph classification datasets from `http://graphkernels.cs.tu-dortmund.de <http://graphkernels.cs.tu-dortmund.de/>`_ and their `cleaned versions <https://github.com/nd7141/graph_datasets>`_, the QM7 and QM9 dataset, and a handful of 3D mesh/point cloud datasets like FAUST, ModelNet10/40 and ShapeNet.\n",
      "    + :pyg:`PyG` contains a large number of common benchmark datasets, *e.g.*, all Planetoid datasets (Cora, Citeseer, Pubmed), all graph classification datasets from `TUDatasets https://chrsmrrs.github.io/datasets/`_ and their `cleaned versions <https://github.com/nd7141/graph_datasets>`_, the QM7 and QM9 dataset, and a handful of 3D mesh/point cloud datasets like FAUST, ModelNet10/40 and ShapeNet.\n",
      "    ```\n",
      "    \n",
      "    Please review these changes and merge the PR if everything is in order\n",
      "    or let me know if there are any issues or further changes needed.\n",
      "    \n",
      "    ---------\n",
      "    \n",
      "    Co-authored-by: Ravi Kalia <rkalia.consultant@kriyatx.com>\n",
      "    Co-authored-by: Matthias Fey <matthias.fey@tu-dortmund.de>\n"
     ]
    }
   ],
   "source": [
    "%%bash\n",
    "git log --author=\"ravkalia\" --since=\"2022-01-01\" --until=\"2024-02-31\""
   ]
  },
  {
   "cell_type": "code",
   "execution_count": 99,
   "metadata": {},
   "outputs": [
    {
     "name": "stdout",
     "output_type": "stream",
     "text": [
      "commit 24a185e7268f70ee549c7a424b9426b9a18b5706\n",
      "Author: Ramona Bendias <ramona.bendias@gmail.com>\n",
      "Date:   Mon Feb 21 13:03:52 2022 +0000\n",
      "\n",
      "    Add general `Explainer` Class (#4090)\n",
      "    \n",
      "    * Add base Explainer\n",
      "    \n",
      "    * Update Explainer\n",
      "    \n",
      "    * Fix test\n",
      "    \n",
      "    * Clean code\n",
      "    \n",
      "    * Update test/nn/models/test_explainer.py\n",
      "    \n",
      "    Co-authored-by: Matthias Fey <matthias.fey@tu-dortmund.de>\n",
      "    \n",
      "    * Update torch_geometric/nn/models/explainer.py\n",
      "    \n",
      "    Co-authored-by: Matthias Fey <matthias.fey@tu-dortmund.de>\n",
      "    \n",
      "    * Update torch_geometric/nn/models/explainer.py\n",
      "    \n",
      "    Co-authored-by: Matthias Fey <matthias.fey@tu-dortmund.de>\n",
      "    \n",
      "    * Add hints and add get_num_hops\n",
      "    \n",
      "    * Fix\n",
      "    \n",
      "    * Change docstring\n",
      "    \n",
      "    * Update torch_geometric/utils/subgraph.py\n",
      "    \n",
      "    Co-authored-by: Matthias Fey <matthias.fey@tu-dortmund.de>\n",
      "    \n",
      "    * Fix tests\n",
      "    \n",
      "    * Update torch_geometric/nn/models/explainer.py\n",
      "    \n",
      "    * Update torch_geometric/nn/models/explainer.py\n",
      "    \n",
      "    * some typos\n",
      "    \n",
      "    * typo\n",
      "    \n",
      "    Co-authored-by: Matthias Fey <matthias.fey@tu-dortmund.de>\n",
      "\n",
      "commit 6002170a513107d66d3bc37cf39dc924f380f694\n",
      "Author: RBendias <ramona.bendias@gmail.com>\n",
      "Date:   Wed Feb 9 12:07:02 2022 +0100\n",
      "\n",
      "    Make models compatible to Captum (#3990)\n",
      "    \n",
      "    * Add PNA model\n",
      "    \n",
      "    * Add to_captum for edge_masks\n",
      "    \n",
      "    * Add node explainability with captum\n",
      "    \n",
      "    * Update\n",
      "    \n",
      "    * Add CaptumModel documentation\n",
      "    \n",
      "    * Update torch_geometric/nn/models/explainer.py\n",
      "    \n",
      "    Co-authored-by: Matthias Fey <matthias.fey@tu-dortmund.de>\n",
      "    \n",
      "    * Update torch_geometric/nn/models/explainer.py\n",
      "    \n",
      "    Co-authored-by: Matthias Fey <matthias.fey@tu-dortmund.de>\n",
      "    \n",
      "    * Update torch_geometric/nn/models/explainer.py\n",
      "    \n",
      "    Co-authored-by: Matthias Fey <matthias.fey@tu-dortmund.de>\n",
      "    \n",
      "    * Update torch_geometric/nn/models/explainer.py\n",
      "    \n",
      "    Co-authored-by: Matthias Fey <matthias.fey@tu-dortmund.de>\n",
      "    \n",
      "    * Add Captum dependency\n",
      "    \n",
      "    * Update captum_explainability.py\n",
      "    \n",
      "    * Update docs\n",
      "    \n",
      "    * Update docs\n",
      "    \n",
      "    * update doc\n",
      "    \n",
      "    Co-authored-by: @ramonabendias <ramona@workist.com>\n",
      "    Co-authored-by: Matthias Fey <matthias.fey@tu-dortmund.de>\n",
      "\n",
      "commit 14d588d4ceb2d9c0bd71efa4f1051fb041154f2c\n",
      "Author: Konstantinos Kogkalidis <konstantinos@riseup.net>\n",
      "Date:   Mon Feb 7 09:48:21 2022 +0100\n",
      "\n",
      "    Update attention.py (#4009)\n",
      "    \n",
      "    fix shape of output tensor in docstring for GlobalAttention\n",
      "\n",
      "commit 50ff5e6d60dacad8482fe71351bfe48882e95f83\n",
      "Author: RBendias <ramona.bendias@gmail.com>\n",
      "Date:   Wed Feb 2 20:58:55 2022 +0100\n",
      "\n",
      "    Add `full` extras to install command in contribution docs (#3991)\n",
      "    \n",
      "    * Add PNA model\n",
      "    \n",
      "    * Add `full` extras to contribution install command\n",
      "\n",
      "commit 1e24b3a16fa2e92f9ad558ec2544c29132f7129b\n",
      "Author: Matthias Fey <matthias.fey@tu-dortmund.de>\n",
      "Date:   Wed Jan 26 16:26:24 2022 +0100\n",
      "\n",
      "    Refactor: `MLP` initialization (#3957)\n",
      "    \n",
      "    * update MLP\n",
      "    \n",
      "    * docstring\n",
      "    \n",
      "    * fix test\n",
      "    \n",
      "    * typo\n",
      "    \n",
      "    * typo\n",
      "\n",
      "commit 3e4891be64a54b01cd8aa00852db830bc5459784\n",
      "Author: Arun <arun.palaniappan1999@gmail.com>\n",
      "Date:   Thu Jan 20 13:09:50 2022 +0530\n",
      "\n",
      "    Doc improvements to set2set layers (#3889)\n",
      "    \n",
      "    * added type hints\n",
      "    \n",
      "    * doc updates\n",
      "    \n",
      "    * set2set parameter to accept None arg\n",
      "    \n",
      "    * added shapes of input and output [docs]\n",
      "    \n",
      "    * minor fix\n",
      "    \n",
      "    Co-authored-by: Matthias Fey <matthias.fey@tu-dortmund.de>\n",
      "    \n",
      "    * small update\n",
      "    \n",
      "    Co-authored-by: Matthias Fey <matthias.fey@tu-dortmund.de>\n",
      "\n",
      "commit fac848c25f9c0181e11869a6bcd85ed242d982c5\n",
      "Author: Otávio Calaça <otaviocx@gmail.com>\n",
      "Date:   Tue Jan 18 05:23:21 2022 -0300\n",
      "\n",
      "    Let `TemporalData` inherit from `BaseData` and add docs (#3867)\n",
      "    \n",
      "    * Refactor TemporalData class to inherit from BaseData\n",
      "    \n",
      "    * Fixes to get TemporalData working\n",
      "    \n",
      "    * Small fixes in __delitem__ of TemporalData\n",
      "    \n",
      "    * Add batch, __cat_dim__ and __inc__ to TemporalData\n",
      "    \n",
      "    * Add Docs to TemporalData\n",
      "    \n",
      "    * [pre-commit.ci] auto fixes from pre-commit.com hooks\n",
      "    \n",
      "    for more information, see https://pre-commit.ci\n",
      "    \n",
      "    * Lint fixes\n",
      "    \n",
      "    * Add removed method TemporalData.seq_batches\n",
      "    \n",
      "    * Update torch_geometric/data/temporal.py\n",
      "    \n",
      "    Co-authored-by: Matthias Fey <matthias.fey@tu-dortmund.de>\n",
      "    \n",
      "    * Update torch_geometric/data/temporal.py\n",
      "    \n",
      "    Co-authored-by: Matthias Fey <matthias.fey@tu-dortmund.de>\n",
      "    \n",
      "    * Changes requested in review\n",
      "    \n",
      "    * Removing trailing whitespace\n",
      "    \n",
      "    * fix doc + some inheritance issues\n",
      "    \n",
      "    * fix iter\n",
      "    \n",
      "    Co-authored-by: pre-commit-ci[bot] <66853113+pre-commit-ci[bot]@users.noreply.github.com>\n",
      "    Co-authored-by: Matthias Fey <matthias.fey@tu-dortmund.de>\n",
      "\n",
      "commit 0c29b0d5b5d3b23e981601367a47222bddd9c34b\n",
      "Author: Stefano Roncelli <45285915+saiden89@users.noreply.github.com>\n",
      "Date:   Sat Jan 8 08:46:49 2022 +0100\n",
      "\n",
      "    Updated docstring for shape info - part 2 (#3739)\n",
      "    \n",
      "    * update docstrings for shape\n",
      "    \n",
      "    * update docstrings for shape\n",
      "    fix out channels description\n",
      "    \n",
      "    * update docstrings for shape\n",
      "    \n",
      "    * fix linting\n",
      "    \n",
      "    * update\n",
      "    \n",
      "    * update\n",
      "    \n",
      "    * update\n",
      "    \n",
      "    * update\n",
      "    \n",
      "    * fix tests\n",
      "    \n",
      "    * typo\n",
      "    \n",
      "    * fix typos\n",
      "    \n",
      "    * fix typo\n",
      "    \n",
      "    * update docs\n",
      "    \n",
      "    * update docstring for shape\n",
      "    fix typos for cheb_conv\n",
      "    \n",
      "    * rollback gmm_conv\n",
      "    \n",
      "    Co-authored-by: rusty1s <matthias.fey@tu-dortmund.de>\n"
     ]
    }
   ],
   "source": [
    "%%bash\n",
    "git log --grep=\"docs\"  --since=\"2022-01-01\" --until=\"2022-02-31\""
   ]
  },
  {
   "cell_type": "code",
   "execution_count": 101,
   "metadata": {},
   "outputs": [
    {
     "name": "stdout",
     "output_type": "stream",
     "text": [
      "24a185e72 Add general `Explainer` Class (#4090)\n",
      "6002170a5 Make models compatible to Captum (#3990)\n",
      "14d588d4c Update attention.py (#4009)\n",
      "50ff5e6d6 Add `full` extras to install command in contribution docs (#3991)\n",
      "1e24b3a16 Refactor: `MLP` initialization (#3957)\n",
      "3e4891be6 Doc improvements to set2set layers (#3889)\n",
      "fac848c25 Let `TemporalData` inherit from `BaseData` and add docs (#3867)\n",
      "0c29b0d5b Updated docstring for shape info - part 2 (#3739)\n"
     ]
    }
   ],
   "source": [
    "%%bash\n",
    "git log --oneline --grep=\"docs\"  --since=\"2022-01-01\" --until=\"2022-02-31\""
   ]
  },
  {
   "cell_type": "markdown",
   "metadata": {},
   "source": [
    "## Git Grep vs Grep\n",
    "\n",
    "The main differences between `git grep` and `grep` are:\n",
    "\n",
    "`git grep` only searches through your tracked files, while `grep` can search through any files.\n",
    "`git grep` is aware of your Git repository structure and can search through old commits, branches, etc., while `grep` only searches through the current state of files.\n",
    "\n",
    "`git grep` is faster than `grep` when searching through a Git repository because it takes advantage of Git's index data structure."
   ]
  },
  {
   "cell_type": "code",
   "execution_count": 120,
   "metadata": {},
   "outputs": [
    {
     "name": "stdout",
     "output_type": "stream",
     "text": [
      "CPU times: user 1.7 ms, sys: 3.9 ms, total: 5.6 ms\n",
      "Wall time: 28.7 ms\n"
     ]
    }
   ],
   "source": [
    "%%time\n",
    "%%bash\n",
    "git grep \"test_sparse\" > /dev/null"
   ]
  },
  {
   "cell_type": "code",
   "execution_count": 119,
   "metadata": {},
   "outputs": [
    {
     "name": "stdout",
     "output_type": "stream",
     "text": [
      "CPU times: user 1.69 ms, sys: 4.69 ms, total: 6.38 ms\n",
      "Wall time: 365 ms\n"
     ]
    }
   ],
   "source": [
    "%%time\n",
    "%%bash\n",
    "grep -r \"test_sparse\" . > /dev/null"
   ]
  },
  {
   "cell_type": "markdown",
   "metadata": {},
   "source": [
    "## Takeaways\n",
    "\n",
    "There are many ways to search a repository, particularly a Git Repo. We outlined some use cases with examples for a \"Unix-like\" file directory and also a Git Repo.\n",
    "\n",
    "In most cases use:\n",
    "\n",
    "* `git grep` for searching strings in the repository in the current working tree or a specific commit\n",
    "\n",
    "* `git log` for searching across commits.\n",
    "\n",
    "There are many flags and options for these commands - some combinations which produce the same output. Be sure to check the documentation for more information.\n"
   ]
  }
 ],
 "metadata": {
  "kernelspec": {
   "display_name": "Python 3",
   "language": "python",
   "name": "python3"
  },
  "language_info": {
   "codemirror_mode": {
    "name": "ipython",
    "version": 3
   },
   "file_extension": ".py",
   "mimetype": "text/x-python",
   "name": "python",
   "nbconvert_exporter": "python",
   "pygments_lexer": "ipython3",
   "version": "3.12.2"
  }
 },
 "nbformat": 4,
 "nbformat_minor": 2
}
