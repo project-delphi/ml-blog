{
  "cells": [
    {
      "cell_type": "markdown",
      "metadata": {},
      "source": [
        "Here’s a QMD blog post about langgraph, including code examples that should run in your environment:\n",
        "\n",
        "# Building Complex LLM Workflows with LangGraph\n",
        "\n",
        "For **language models (LLMs)**, managing complex workflows, conditional logic, and stateful execution is challenging. That's where **LangGraph** comes in. It enables you to build sophisticated, **stateful**, and **modular** applications using a **graph-based** approach, making it ideal for multi-agent systems, conditional flows, and more.\n",
        "\n",
        "## What is LangGraph?\n",
        "\n",
        "`LangGraph` is a Python framework designed to build **stateful, multi-agent applications**. It structures your LLM workflow as a **directed acyclic graph (DAG)** where each node represents a function, model call, or tool. These nodes are connected with edges that define how data flows from one node to another, allowing you to create complex, conditional workflows.\n",
        "\n",
        "## Key Features\n",
        "\n",
        "- **Graph-based execution**: Unlike a linear chain of tasks (like in LangChain), LangGraph allows for explicit, flexible, graph-based routing. You can branch logic or parallelize tasks.\n",
        "- **State management**: LangGraph uses a centralized, mutable state that flows through the graph, enabling easy tracking of evolving information.\n",
        "- **Concurrency**: The framework supports parallel execution of branches, making it great for handling multiple agents or parallel tasks.\n",
        "\n",
        "## Core Components\n",
        "\n",
        "LangGraph is centered around a few key objects:\n",
        "\n",
        "- **`StateGraph`**: This is the core class used to build and compile the graph.\n",
        "- **`END`**: A special constant to signal graph termination.\n",
        "- **`State`**: The state that flows through the graph. It's typically a dictionary or a Pydantic model.\n",
        "- **`ToolNode`, `FunctionNode`, `LLMNode`**: These represent various types of nodes, which can be LLM calls, tools, or functions.\n",
        "\n",
        "## Creating a Graph\n",
        "\n",
        "Here’s a simple example to get started:\n"
      ],
      "id": "7b09b6dc"
    },
    {
      "cell_type": "code",
      "metadata": {},
      "source": [
        "from langgraph import StateGraph, State, FunctionNode, END\n",
        "\n",
        "# Define a state type\n",
        "class MyState(State):\n",
        "    count: int\n",
        "\n",
        "# Create a graph\n",
        "sg = StateGraph(MyState)\n",
        "\n",
        "# Add nodes (functions in this case)\n",
        "def increment(state: MyState) -> MyState:\n",
        "    state.count += 1\n",
        "    return state\n",
        "\n",
        "# Add the increment node\n",
        "sg.add_node(\"increment\", increment)\n",
        "\n",
        "# Set the entry point\n",
        "sg.set_entry_point(\"increment\")\n",
        "\n",
        "# Compile the graph into an executable\n",
        "graph = sg.compile()"
      ],
      "id": "d905adf1",
      "execution_count": null,
      "outputs": []
    },
    {
      "cell_type": "markdown",
      "metadata": {},
      "source": [
        "## Run the graph\n"
      ],
      "id": "d047b96b"
    },
    {
      "cell_type": "code",
      "metadata": {},
      "source": [
        "result = graph.invoke(MyState(count=0))\n",
        "print(result.count)  # Output should be 1"
      ],
      "id": "884d8edc",
      "execution_count": null,
      "outputs": []
    },
    {
      "cell_type": "markdown",
      "metadata": {},
      "source": [
        "In this simple example:\n",
        "\t•\tWe define a state (MyState) that holds a counter.\n",
        "\t•\tWe create a node (increment) that increments this counter.\n",
        "\t•\tWe compile and run the graph, outputting the incremented count.\n",
        "\n",
        "## Advanced Features\n",
        "\n",
        "Conditional Logic and Branching\n",
        "\n",
        "You can add conditional logic to decide the next node based on the state or results from previous nodes. For example:\n"
      ],
      "id": "3241ae9a"
    },
    {
      "cell_type": "code",
      "metadata": {},
      "source": [
        "def check_even(state: MyState) -> State:\n",
        "    if state.count % 2 == 0:\n",
        "        state.count += 2  # Even, increment by 2\n",
        "    else:\n",
        "        state.count -= 1  # Odd, decrement by 1\n",
        "    return state\n",
        "\n",
        "# Modify the graph with conditional logic\n",
        "sg.add_node(\"check_even\", check_even)\n",
        "sg.add_edge(\"increment\", \"check_even\")\n",
        "sg.add_edge(\"check_even\", END)\n",
        "\n",
        "graph = sg.compile()\n",
        "result = graph.invoke(MyState(count=0))  # Starts with 0, will increment by 2 to 2\n",
        "print(result.count)  # Output: 2"
      ],
      "id": "5adc6e32",
      "execution_count": null,
      "outputs": []
    },
    {
      "cell_type": "markdown",
      "metadata": {},
      "source": [
        "Here, after incrementing the count, the state is checked for evenness. If even, it increments by 2, otherwise decrements by 1.\n",
        "\n",
        "## When to Use LangGraph\n",
        "\n",
        "LangGraph shines in applications that require:\n",
        "\t•\tMulti-agent systems: Where different agents interact with each other and make decisions based on shared state.\n",
        "\t•\tStateful workflows: When you need to maintain and pass state across multiple steps (e.g., conversational agents).\n",
        "\t•\tConditional and dynamic logic: For workflows where the path changes depending on previous outputs.\n",
        "\t•\tComplex LLM pipelines: Combining multiple LLMs, tools, and decision-making logic into a single process.\n",
        "\n",
        "## Comparison with LangChain\n",
        "\n",
        "Although LangChain is also a popular framework for building LLM applications, it works on a more linear or recursive basis, whereas LangGraph uses a graph-based approach that offers greater flexibility and modularity. Here’s a quick comparison:\n",
        "\n",
        "| Feature               | LangGraph                               | LangChain                                 |\n",
        "|-----------------------|-----------------------------------------|-------------------------------------------|\n",
        "| Core abstraction      | Directed graph of nodes                 | Linear or recursive chain of steps        |\n",
        "| Execution flow        | Explicit, flexible, graph-based routing | Mostly linear or tree-like flow           |\n",
        "| State management      | Centralized mutable state passed through nodes | Local inputs/outputs passed between chains |\n",
        "| Concurrency           | Supports parallel branches              | Limited concurrency support               |\n",
        "| Use case focus        | Multi-agent systems, conditional flows  | LLM wrappers, tools, agents, retrievers   |\n",
        "\n",
        "## Conclusion\n",
        "\n",
        "LangGraph brings a powerful way to structure complex workflows in LLM-based systems. It excels in scenarios with branching logic, multi-agent interactions, and long-lived stateful applications. If you’re building systems that require more than just simple chains of LLM calls, LangGraph can provide the flexibility and control you need.\n"
      ],
      "id": "ef1677cf"
    }
  ],
  "metadata": {
    "kernelspec": {
      "name": "python3",
      "language": "python",
      "display_name": "Python 3 (ipykernel)",
      "path": "/Users/ravikalia/Code/local-playground/.venv/share/jupyter/kernels/python3"
    }
  },
  "nbformat": 4,
  "nbformat_minor": 5
}