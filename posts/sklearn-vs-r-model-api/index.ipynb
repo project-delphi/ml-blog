{
 "cells": [
  {
   "cell_type": "raw",
   "metadata": {},
   "source": []
  },
  {
   "cell_type": "raw",
   "metadata": {
    "vscode": {
     "languageId": "raw"
    }
   },
   "source": [
    "---\n",
    "title: \"sklearn vs R model APIs\"\n",
    "author: \"Ravi Kalia\"\n",
    "date: \"2024-09-21\"\n",
    "categories: [machine-learning, development, statistics, APIs, R, sklearn]\n",
    "image: \"./r_logo.png\"\n",
    "format:\n",
    "    html:\n",
    "        code-copy: true\n",
    "        code-fold: true \n",
    "        toc: true\n",
    "        toc-depth: 2\n",
    "---"
   ]
  },
  {
   "cell_type": "markdown",
   "metadata": {},
   "source": [
    "<p style=\"text-align: center;\">\n",
    "  <em>Made with <span style=\"color: red;\">❤️</span> and <a href=\"https://github.com/features/copilot\" target=\"_blank\">GitHub Copilot</a></em>\n",
    "  <br>\n",
    "  <img src=\"https://github.githubassets.com/images/icons/emoji/octocat.png\" alt=\"GitHub Copilot Logo\" width=\"50\">\n",
    "</p>"
   ]
  },
  {
   "cell_type": "markdown",
   "metadata": {},
   "source": [
    "# Sklearn vs R model APIs"
   ]
  },
  {
   "cell_type": "markdown",
   "metadata": {},
   "source": [
    "<p style=\"text-align: center;\">\n",
    "  <img src=\"r_logo.png\" alt=\"R Logo\" width=\"150\" style=\"display: inline-block; margin-right: 50px;\">\n",
    "  <span style=\"font-size: 24px; font-weight: bold;\">VS</span>\n",
    "  <img src=\"scikit_learn_logo.png\" alt=\"Scikit-learn Logo\" width=\"150\" style=\"display: inline-block; margin-left: 50px;\">\n",
    "</p>\n"
   ]
  },
  {
   "cell_type": "markdown",
   "metadata": {},
   "source": [
    "## Introduction\n",
    "\n",
    "Many computing on data rely on R and scikit-learn as primary tools for statistical modeling and machine learning. While both languages offer powerful capabilities for creating and working with models, they employ distinct approaches to model creation and fitting. This blog post explores these differences, focusing on how models are instantiated and fitted in each language. The comparison will examine linear models with toy synthetic data.\n",
    "\n",
    "Note that the discussion is of R with the dominance of S3 classes (and so generic functions) for popular established models, and scikit-learn for Python. The scikit-learn model approach has become the standard in many Python frameworks, including Keras, mlx and PyTorch. (Some discussions on the topic of R vs Python for computing on data focus on the languages themselves, but this post will focus on the model APIs, in particular how instantiation, fit and predict are invoked.)\n",
    "\n",
    "## R's Approach: Implicit Fitting and S3 Classes\n",
    "\n",
    "In R, model fitting is often implicit and occurs at the time of model creation. This is facilitated by R's use of S3 classes, which are based on generic functions.\n",
    "\n",
    "(There are many OOP paradigms used for model fitting in R - more on this later. By far the most popular for an important class of models is using the S3 system.)\n",
    "\n",
    "### Understanding S3 Generic Functions\n",
    "\n",
    "S3 is R's first and most widely used object-oriented system. It's based on generic functions, which provide a simple yet powerful way to implement polymorphism in R. Here's how S3 generic functions work:\n",
    "\n",
    "1. A generic function is a function that dispatches method calls to other functions, based on the class of the arguments passed to it.\n",
    "\n",
    "2. When a generic function is called, R looks for a method that matches the class of the object passed as an argument.\n",
    "\n",
    "3. If a matching method is found, it is called; otherwise, R looks for a default method.\n",
    "\n",
    "Let's look at an example using the `print()` function, which is a common S3 generic:"
   ]
  },
  {
   "cell_type": "code",
   "execution_count": 1,
   "metadata": {
    "vscode": {
     "languageId": "r"
    }
   },
   "outputs": [
    {
     "name": "stdout",
     "output_type": "stream",
     "text": [
      "Human Attributes \n",
      "Name:  John Doe \n",
      "Age:  30 \n"
     ]
    }
   ],
   "source": [
    "# Define a new S3 class\n",
    "create_human <- function(name, age) {\n",
    "  human <- list(name = name, age = age)\n",
    "  class(human) <- \"human\"\n",
    "  return(human)\n",
    "}\n",
    "\n",
    "# Define a method for the print generic\n",
    "print.human <- function(x, ...) {\n",
    "  cat(\"Human Attributes \\n\")\n",
    "  cat(\"Name: \", x$name, \"\\n\")\n",
    "  cat(\"Age: \", x$age, \"\\n\")\n",
    "}\n",
    "\n",
    "# Create an object and print it\n",
    "john <- create_human(\"John Doe\", 30)\n",
    "print(john)"
   ]
  },
  {
   "cell_type": "markdown",
   "metadata": {},
   "source": [
    "In this example:\n",
    "- We define a new S3 class called \"human\".\n",
    "- We create a method `print.human()` for the `print()` generic function.\n",
    "- When we call `print(john)`, R recognizes that `john` is of class \"human\" and calls our `print.human()` method.\n",
    "\n",
    "This system allows for intuitive and flexible implementation of methods for different classes. In the context of modeling, it enables R to provide a consistent interface for various model types while allowing for specialized behavior based on the specific model class.\n",
    "\n",
    "### S3 Classes for Models\n",
    "\n",
    "R uses S3 classes for many of its modeling functions. Some examples include:\n",
    "\n",
    "- `lm` for linear models\n",
    "- `glm` for generalized linear models\n",
    "- `rpart` for decision trees\n",
    "- `randomForest` for random forest models\n",
    "\n",
    "When you create a model object using these functions, you are actually creating an instance of an S3 class.\n",
    "\n",
    "These classes come with predefined generic function methods for common operations like `print()`, `summary()`, and `predict()`, which behave differently depending on the model type.\n",
    "\n",
    "### Implicit Fitting\n",
    "\n",
    "In R, when a model-type object is instantiated with a call, it is typically fitted automatically. Let's look at linear model as a simple example.\n",
    "\n",
    "But first we need some data, we'll use a toy example - to illustrate the model fitting process. \n",
    "\n",
    "By using toy synthetic data, we are avoiding details such as:\n",
    "\n",
    "- Data cleaning\n",
    "- Input imbalance\n",
    "- Output imbalance\n",
    "- Multi-collinearity\n",
    "- Multiple features\n",
    "- Perfect separation\n",
    "- Imputation\n",
    "- Encoding\n",
    "- Feature scaling\n",
    "- Handling outliers (either removing them, or replacing them with a reasonable value, or even considering robust models)\n",
    "\n",
    "We will need a split function to split the data into train-dev-test sets."
   ]
  },
  {
   "cell_type": "code",
   "execution_count": 2,
   "metadata": {
    "vscode": {
     "languageId": "r"
    }
   },
   "outputs": [],
   "source": [
    "split_data <- function(data, train_ratio = 0.7, dev_ratio = 0.15, test_ratio = 0.15, seed = 123) {\n",
    "  # Check that the ratios sum to 1\n",
    "  if (train_ratio + dev_ratio + test_ratio != 1) {\n",
    "    stop(\"The sum of train_ratio, dev_ratio, and test_ratio must be 1.\")\n",
    "  }\n",
    "  \n",
    "  # Set seed for reproducibility\n",
    "  set.seed(seed)\n",
    "  \n",
    "  # Calculate the number of samples for each set\n",
    "  n <- nrow(data)\n",
    "  train_size <- floor(train_ratio * n)\n",
    "  dev_size <- floor(dev_ratio * n)\n",
    "  \n",
    "  # Generate random indices for the training set\n",
    "  train_indices <- sample(seq_len(n), size = train_size)\n",
    "  \n",
    "  # Generate random indices for the dev set from the remaining indices\n",
    "  remaining_indices <- setdiff(seq_len(n), train_indices)\n",
    "  dev_indices <- sample(remaining_indices, size = dev_size)\n",
    "  \n",
    "  # The remaining indices are for the test set\n",
    "  test_indices <- setdiff(remaining_indices, dev_indices)\n",
    "  \n",
    "  # Split the data\n",
    "  train_data <- data[train_indices, ]\n",
    "  dev_data <- data[dev_indices, ]\n",
    "  test_data <- data[test_indices, ]\n",
    "  \n",
    "  return(list(train = train_data, dev = dev_data, test = test_data))\n",
    "}"
   ]
  },
  {
   "cell_type": "markdown",
   "metadata": {},
   "source": [
    "Great. Now we can generate synthetic data suitable for a linear model, and split it into train-dev-test sets.\n"
   ]
  },
  {
   "cell_type": "code",
   "execution_count": 3,
   "metadata": {
    "vscode": {
     "languageId": "r"
    }
   },
   "outputs": [
    {
     "data": {
      "text/html": [
       "<table class=\"dataframe\">\n",
       "<caption>A data.frame: 6 x 2</caption>\n",
       "<thead>\n",
       "\t<tr><th></th><th scope=col>x</th><th scope=col>y</th></tr>\n",
       "\t<tr><th></th><th scope=col>&lt;dbl&gt;</th><th scope=col>&lt;dbl&gt;</th></tr>\n",
       "</thead>\n",
       "<tbody>\n",
       "\t<tr><th scope=row>31</th><td>9.6302423</td><td>24.266249</td></tr>\n",
       "\t<tr><th scope=row>79</th><td>3.5179791</td><td>11.074102</td></tr>\n",
       "\t<tr><th scope=row>51</th><td>0.4583117</td><td> 5.206217</td></tr>\n",
       "\t<tr><th scope=row>14</th><td>5.7263340</td><td>15.434093</td></tr>\n",
       "\t<tr><th scope=row>67</th><td>8.1006435</td><td>21.306963</td></tr>\n",
       "\t<tr><th scope=row>42</th><td>4.1454634</td><td>13.839324</td></tr>\n",
       "</tbody>\n",
       "</table>\n"
      ],
      "text/latex": [
       "A data.frame: 6 x 2\n",
       "\\begin{tabular}{r|ll}\n",
       "  & x & y\\\\\n",
       "  & <dbl> & <dbl>\\\\\n",
       "\\hline\n",
       "\t31 & 9.6302423 & 24.266249\\\\\n",
       "\t79 & 3.5179791 & 11.074102\\\\\n",
       "\t51 & 0.4583117 &  5.206217\\\\\n",
       "\t14 & 5.7263340 & 15.434093\\\\\n",
       "\t67 & 8.1006435 & 21.306963\\\\\n",
       "\t42 & 4.1454634 & 13.839324\\\\\n",
       "\\end{tabular}\n"
      ],
      "text/markdown": [
       "\n",
       "A data.frame: 6 x 2\n",
       "\n",
       "| <!--/--> | x &lt;dbl&gt; | y &lt;dbl&gt; |\n",
       "|---|---|---|\n",
       "| 31 | 9.6302423 | 24.266249 |\n",
       "| 79 | 3.5179791 | 11.074102 |\n",
       "| 51 | 0.4583117 |  5.206217 |\n",
       "| 14 | 5.7263340 | 15.434093 |\n",
       "| 67 | 8.1006435 | 21.306963 |\n",
       "| 42 | 4.1454634 | 13.839324 |\n",
       "\n"
      ],
      "text/plain": [
       "   x         y        \n",
       "31 9.6302423 24.266249\n",
       "79 3.5179791 11.074102\n",
       "51 0.4583117  5.206217\n",
       "14 5.7263340 15.434093\n",
       "67 8.1006435 21.306963\n",
       "42 4.1454634 13.839324"
      ]
     },
     "metadata": {},
     "output_type": "display_data"
    }
   ],
   "source": [
    "generate_linear_data <- function(n = 100, seed = 123, slope = 2, intercept = 5, noise_sd = 1) {\n",
    "  # Set seed for reproducibility\n",
    "  set.seed(seed)\n",
    "  \n",
    "  # Generate predictor variable (x)\n",
    "  x <- runif(n, min = 0, max = 10)\n",
    "  \n",
    "  # Generate response variable (y) with a linear relationship and some noise\n",
    "  y <- intercept + slope * x + rnorm(n, mean = 0, sd = noise_sd)\n",
    "  \n",
    "  # Create a dataframe\n",
    "  data <- data.frame(x = x, y = y)\n",
    "  \n",
    "  return(data)\n",
    "}\n",
    "\n",
    "# Generate the data\n",
    "linear_data <- generate_linear_data(n = 100, seed = 123, slope = 2, intercept = 5, noise_sd = 1)\n",
    "\n",
    "# Display the first few rows of the data\n",
    "df <- split_data(linear_data)\n",
    "head(df$train)"
   ]
  },
  {
   "cell_type": "code",
   "execution_count": 6,
   "metadata": {
    "vscode": {
     "languageId": "r"
    }
   },
   "outputs": [
    {
     "data": {
      "image/png": "[encoded data removed]",
      "text/plain": [
       "plot without title"
      ]
     },
     "metadata": {
      "image/png": {
       "height": 420,
       "width": 420
      }
     },
     "output_type": "display_data"
    }
   ],
   "source": [
    "library(ggplot2)\n",
    "\n",
    "ggplot(df$train, aes(x = x, y = y)) +\n",
    "  geom_point(color = \"blue\") +\n",
    "  labs(title = \"Scatter Plot of Training Data\",\n",
    "       x = \"Input (x)\",\n",
    "       y = \"Output (y)\") +\n",
    "  theme_minimal()"
   ]
  },
  {
   "cell_type": "markdown",
   "metadata": {},
   "source": [
    "Now let's work with the training data. We'll fit a linear model to predict `y` based on `x` using the dev set. For completeless we have split out a test set to evaluate the model's final performance if we had tuned on the dev set or compared against other models."
   ]
  },
  {
   "cell_type": "markdown",
   "metadata": {},
   "source": [
    "Linear Regression"
   ]
  },
  {
   "cell_type": "code",
   "execution_count": 7,
   "metadata": {
    "vscode": {
     "languageId": "r"
    }
   },
   "outputs": [
    {
     "data": {
      "text/plain": [
       "\n",
       "Call:\n",
       "lm(formula = y ~ x, data = df$train)\n",
       "\n",
       "Residuals:\n",
       "     Min       1Q   Median       3Q      Max \n",
       "-2.13378 -0.74871 -0.05242  0.59871  2.34082 \n",
       "\n",
       "Coefficients:\n",
       "            Estimate Std. Error t value Pr(>|t|)    \n",
       "(Intercept)  4.85761    0.26186   18.55   <2e-16 ***\n",
       "x            1.99524    0.04485   44.49   <2e-16 ***\n",
       "---\n",
       "Signif. codes:  0 '***' 0.001 '**' 0.01 '*' 0.05 '.' 0.1 ' ' 1\n",
       "\n",
       "Residual standard error: 1.018 on 68 degrees of freedom\n",
       "Multiple R-squared:  0.9668,\tAdjusted R-squared:  0.9663 \n",
       "F-statistic:  1979 on 1 and 68 DF,  p-value: < 2.2e-16\n"
      ]
     },
     "metadata": {},
     "output_type": "display_data"
    }
   ],
   "source": [
    "# Fit a simple linear regression model\n",
    "lm_model <- lm(y ~ x, data = df$train)\n",
    "\n",
    "# Summarize the model\n",
    "summary(lm_model)\n"
   ]
  },
  {
   "cell_type": "markdown",
   "metadata": {},
   "source": [
    "We can visually inspect the model's fit by plotting the data points and the regression line."
   ]
  },
  {
   "cell_type": "code",
   "execution_count": 8,
   "metadata": {
    "vscode": {
     "languageId": "r"
    }
   },
   "outputs": [
    {
     "name": "stderr",
     "output_type": "stream",
     "text": [
      "\u001b[1m\u001b[22m`geom_smooth()` using formula = 'y ~ x'\n"
     ]
    },
    {
     "data": {
      "image/png": "[encoded data removed]",
      "text/plain": [
       "plot without title"
      ]
     },
     "metadata": {
      "image/png": {
       "height": 420,
       "width": 420
      }
     },
     "output_type": "display_data"
    }
   ],
   "source": [
    "ggplot(linear_data, aes(x = x, y = y)) +\n",
    "  geom_point() +\n",
    "  geom_smooth(method = \"lm\", col = \"blue\") +\n",
    "  labs(title = \"Simple Linear Regression\",\n",
    "       x = \"Predictor (x)\",\n",
    "       y = \"Response (y)\") +\n",
    "  theme_minimal()"
   ]
  },
  {
   "cell_type": "markdown",
   "metadata": {},
   "source": [
    "An objective evaluation metric, or score provides an comparable measure of model performance. In this case, we'll use the mean absolute percentage error (MAPE) on the dev set."
   ]
  },
  {
   "cell_type": "code",
   "execution_count": 9,
   "metadata": {
    "vscode": {
     "languageId": "r"
    }
   },
   "outputs": [
    {
     "name": "stdout",
     "output_type": "stream",
     "text": [
      "[1] \"Mean Absolute Percentage Error (MAPE) on Dev Set: 4.49%\"\n"
     ]
    }
   ],
   "source": [
    "# Generate predictions for the development set\n",
    "dev_predictions <- predict(lm_model, newdata = df$dev)\n",
    "\n",
    "# Calculate Mean Absolute Percentage Error (MAPE)\n",
    "calculate_mape <- function(actual, predicted) {\n",
    "  mean(abs((actual - predicted) / actual)) * 100\n",
    "}\n",
    "\n",
    "# Calculate MAPE for the development set\n",
    "mape <- calculate_mape(df$dev$y, dev_predictions)\n",
    "print(paste(\"Mean Absolute Percentage Error (MAPE) on Dev Set: \", round(mape,2), \"%\", sep = \"\"))"
   ]
  },
  {
   "cell_type": "markdown",
   "metadata": {},
   "source": [
    "Cool, we've successfully fitted a linear regression model in R! Note that we used the instance based fitting  and predicted using the s3 class method.\n",
    "\n",
    "Let's spell this out in a more detailed way:\n",
    "\n",
    "- We created a linear model object using the `lm()` function. When this object was created, the model was fitted to the training data at the same time.\n",
    "- We used the `predict()` method of the model object to make predictions on the dev set.\n",
    "\n",
    "The underlying s3 class system in R allows for this implicit fitting and prediction process, making it easy to work with models in a consistent manner.\n",
    "\n",
    "A sketch of the flow is:\n",
    "\n",
    "![S3 workflow of fit and predict](./s3_fit_predict_flow.png)\n",
    "\n",
    "And a very rough sketch of the code, without all the details (calls to C and FORTRAN routines, checks for edge cases, convergence criteria, etc.):\n",
    "\n",
    "```R\n",
    "lm <- function(formula, data, ...) {\n",
    "  # Step 1: Extract the model frame from formula and data\n",
    "  mf <- model.frame(formula = formula, data = data)\n",
    "  \n",
    "  # Step 2: Create model matrix (X) and response vector (y)\n",
    "  X <- model.matrix(attr(mf, \"terms\"), mf)\n",
    "  y <- model.response(mf)\n",
    "  \n",
    "  # Step 3: QR decomposition to solve for coefficients\n",
    "  fit <- qr.solve(qr(X), y)\n",
    "  \n",
    "  # Step 4: Create lm object with fitted values and residuals\n",
    "  result <- list(coefficients = fit$coefficients,\n",
    "                 residuals = y - X %*% fit$coefficients,\n",
    "                 fitted.values = X %*% fit$coefficients,\n",
    "                 qr = qr(X),\n",
    "                 terms = terms(formula),\n",
    "                 call = match.call())\n",
    "  \n",
    "  class(result) <- \"lm\"  # Assign class \"lm\"\n",
    "  return(result)\n",
    "}\n",
    "\n",
    "fit <- function(formula, data, model_type = \"lm\", ...) {\n",
    "  UseMethod(\"fit\", model_type)  # Dispatch based on model_type\n",
    "}\n",
    "\n",
    "fit.lm <- function(formula, data, ...) {\n",
    "  # Calls lm() to fit the linear model\n",
    "  model <- lm(formula, data = data, ...)\n",
    "  return(model)\n",
    "}\n",
    "\n",
    "predict <- function(object, ...) {\n",
    "  UseMethod(\"predict\")\n",
    "}\n",
    "\n",
    "predict.lm <- function(object, newdata, ...) {\n",
    "  # Step 1: Construct model matrix for new data\n",
    "  new_X <- model.matrix(terms(object), newdata)\n",
    "  \n",
    "  # Step 2: Use the coefficients to calculate predictions\n",
    "  preds <- new_X %*% coef(object)\n",
    "  \n",
    "  return(preds)\n",
    "}\n",
    "```\n",
    "\n",
    "A brief outline of the code snippet:\n",
    "\n",
    "- The `lm()` function creates a linear model object by solving the normal equations using QR decomposition. It depends on receiving a formula and data as input at the time of instantiation.\n",
    "- The `fit()` function is a generic function that dispatches to specific fitting functions based on the model type.\n",
    "- The `fit.lm()` function fits a linear model using the `lm()` function.\n",
    "\n",
    "All of this depends on S3 classes and generic functions.\n",
    "\n",
    "Now moving on, let's use the same dataset with Python using scikit-learn. We'll save it down to a csv file and load it into a pandas dataframe."
   ]
  },
  {
   "cell_type": "code",
   "execution_count": 10,
   "metadata": {
    "vscode": {
     "languageId": "r"
    }
   },
   "outputs": [],
   "source": [
    "write.csv(df$train, \"train_data.csv\", row.names = FALSE)\n",
    "write.csv(df$dev, \"dev_data.csv\", row.names = FALSE)"
   ]
  },
  {
   "cell_type": "markdown",
   "metadata": {
    "vscode": {
     "languageId": "raw"
    }
   },
   "source": [
    "## Python's Approach: Explicit Fitting with Scikit-learn\n",
    "\n",
    "Python, on the other hand, takes a more explicit approach to model fitting, especially when using the popular machine learning library Scikit-learn.\n",
    "\n",
    "\n",
    "Let's load the data for train and dev sets.\n",
    "\n"
   ]
  },
  {
   "cell_type": "code",
   "execution_count": 1,
   "metadata": {
    "vscode": {
     "languageId": "r"
    }
   },
   "outputs": [],
   "source": [
    "import pandas as pd\n",
    "df_train = pd.read_csv(\"train_data.csv\")\n",
    "df_dev = pd.read_csv(\"dev_data.csv\")"
   ]
  },
  {
   "cell_type": "markdown",
   "metadata": {},
   "source": [
    "### Class-Based Implementation\n",
    "\n",
    "Python uses a more traditional class-based implementation for its models. In scikit-learn, models are implemented as classes with specific methods for fitting and prediction.\n",
    "\n",
    "### The scikit-learn Interface\n",
    "\n",
    "The scikit-learn library in Python uses a consistent interface across its models, with separate `fit()` and `predict()` methods. Here's how this looks for Linear Regression"
   ]
  },
  {
   "cell_type": "code",
   "execution_count": 2,
   "metadata": {
    "vscode": {
     "languageId": "r"
    }
   },
   "outputs": [
    {
     "name": "stdout",
     "output_type": "stream",
     "text": [
      "Mean Absolute Percentage Error (MAPE) on Dev Set: 4.49%\n"
     ]
    }
   ],
   "source": [
    "from sklearn.linear_model import LinearRegression\n",
    "from sklearn.metrics import mean_absolute_percentage_error\n",
    "\n",
    "\n",
    "model = LinearRegression() # instantiation\n",
    "model.fit(df_train[['x']], df_train['y'])  # fitting the model\n",
    "\n",
    "# Generate predictions for the development set\n",
    "dev_predictions = model.predict(df_dev[['x']])  # prediction\n",
    "\n",
    "# Calculate Mean Absolute Percentage Error (MAPE)\n",
    "mape = mean_absolute_percentage_error(df_dev['y'], dev_predictions) * 100\n",
    "print(f\"Mean Absolute Percentage Error (MAPE) on Dev Set: {mape:.2f}%\")"
   ]
  },
  {
   "cell_type": "markdown",
   "metadata": {},
   "source": [
    "\n",
    "This approach separates the model instantiation, fitting, and prediction steps, providing more explicit control over the process.\n",
    "\n",
    "## Comparing the Two Approaches\n",
    "\n",
    "Both approaches have their merits:\n",
    "\n",
    "1. R's approach is more concise and can be more intuitive for statistical modeling. It's particularly convenient for quick exploratory data analysis.\n",
    "\n",
    "2. Python's approach provides more explicit control and is consistent across different types of models. This can be beneficial in production environments where you might want more fine-grained control over the fitting process.\n",
    "\n",
    "### Advantages of R's Approach:\n",
    "- More concise code for simple modeling tasks\n",
    "- Intuitive for statisticians used to thinking in terms of model formulas\n",
    "- Easy to quickly try out different model specifications\n",
    "\n",
    "### Advantages of Python's Approach:\n",
    "- Consistent interface across different types of models\n",
    "- More explicit control over the fitting process\n",
    "- Easier to integrate into larger software systems due to its object-oriented nature\n",
    "\n",
    "## Swapping Styles\n",
    "\n",
    "### Simulating R-style Instantiation in Python\n",
    "\n",
    "While Python's default approach is different, it's possible to simulate R-style instantiation and fitting more closely. Here's an implementation that mirrors R's behavior, allowing for a two-step process of defining the model class and then fitting it with data:"
   ]
  },
  {
   "cell_type": "code",
   "execution_count": 7,
   "metadata": {
    "vscode": {
     "languageId": "r"
    }
   },
   "outputs": [
    {
     "name": "stdout",
     "output_type": "stream",
     "text": [
      "Mean Absolute Percentage Error (MAPE) on Dev Set: 4.49%\n"
     ]
    }
   ],
   "source": [
    "import pandas as pd\n",
    "from sklearn.linear_model import LinearRegression, LogisticRegression\n",
    "from sklearn.ensemble import RandomForestClassifier\n",
    "\n",
    "class RStyleModel:\n",
    "    def __init__(self, model_class, **kwargs):\n",
    "        self.model_class = model_class\n",
    "        self.kwargs = kwargs\n",
    "        self.fitted_model = None\n",
    "\n",
    "    def __call__(self, formula, data):\n",
    "        # Parse the formula\n",
    "        y, X = self._parse_formula(formula, data)\n",
    "        \n",
    "        # Create and fit the model\n",
    "        self.fitted_model = self.model_class(**self.kwargs)\n",
    "        self.fitted_model.fit(X, y)\n",
    "        \n",
    "        return self\n",
    "\n",
    "    def predict(self, X):\n",
    "        if self.fitted_model is None:\n",
    "            raise ValueError(\"Model has not been fitted yet.\")\n",
    "        return self.fitted_model.predict(X)\n",
    "\n",
    "    def _parse_formula(self, formula, data):\n",
    "        # Simple formula parsing (for demonstration purposes)\n",
    "        response, predictors = formula.split('~')\n",
    "        y = data[response.strip()]\n",
    "        if predictors.strip() == '.':\n",
    "            X = data.drop(response.strip(), axis=1)\n",
    "        else:\n",
    "            X = data[[p.strip() for p in predictors.split('+')]]\n",
    "        return y, X\n",
    "\n",
    "# Usage\n",
    "lm = RStyleModel(LinearRegression)\n",
    "# Assuming 'my_data' is a pandas DataFrame\n",
    "lm('y ~ x', df_train)\n",
    "\n",
    "# Predictions\n",
    "linear_predictions = lm.predict(df_dev[['x']])\n",
    "\n",
    "# Calculate Mean Absolute Percentage Error (MAPE)\n",
    "mape = mean_absolute_percentage_error(df_dev['y'], linear_predictions) * 100\n",
    "print(f\"Mean Absolute Percentage Error (MAPE) on Dev Set: {mape:.2f}%\")"
   ]
  },
  {
   "cell_type": "markdown",
   "metadata": {},
   "source": [
    "Wonderful the results match the R implementation. This approach provides a more R-like workflow in Python, making it easier for R users to transition to Python for modeling tasks.\n",
    "\n",
    "This implementation provides several R-like features:\n",
    "\n",
    "1. Model Class Definition: We define the model classes using names familiar to R users: `lm` for linear models, `randomForest` for random forests, and `glm` for generalized linear models (in this case, logistic regression).\n",
    "\n",
    "2. Formula Interface: We use an R-like formula syntax for model fitting (e.g., `y ~ x` or `y ~ .` for all variables).\n",
    "\n",
    "3. Implicit Fitting: The model is fitted when we call the model class with a formula and data, similar to R's behavior.\n",
    "\n",
    "4. Familiar Prediction: We use the `predict` method on the fitted model object, just like in R.\n",
    "\n",
    "5. Flexibility: This approach works for different types of models with a consistent interface, mirroring R's functionality.\n",
    "\n",
    "This implementation closely mirrors R's workflow while still leveraging Python's scikit-learn backend. It provides a familiar interface for R users while maintaining the flexibility and power of Python's machine learning ecosystem.\n",
    "\n",
    "### Simulating Python-style Instantiation in R\n",
    "\n",
    "Conversely, it's also possible to simulate Python's explicit fitting approach in R. While this is less common due to R's default behavior, it can be achieved by creating custom classes and methods that separate model instantiation from fitting. \n",
    "\n",
    "There are many object oriented systems in R - you can find a discussion in Hadley Wickham's [Advanced R](https://adv-r.hadley.nz/oo.html#oo) book.\n",
    "\n",
    "There are many, many ways to do this in R, and the examples below are just a few possibilities. \n",
    "\n",
    "S3:"
   ]
  },
  {
   "cell_type": "markdown",
   "metadata": {},
   "source": [
    "```r\n",
    "# Define the LinearRegression S3 class\n",
    "LinearRegression <- function() {\n",
    "  structure(list(coefficients = NULL, intercept = NULL), class = \"LinearRegression\")\n",
    "}\n",
    "\n",
    "# Fit method\n",
    "fit.LinearRegression <- function(model, X, y) {\n",
    "  X <- cbind(1, X)  # Add intercept term\n",
    "  beta <- solve(t(X) %*% X) %*% t(X) %*% y  # Normal equation\n",
    "  model$intercept <- beta[1]\n",
    "  model$coefficients <- beta[-1]\n",
    "  return(model)\n",
    "}\n",
    "\n",
    "# Predict method\n",
    "predict.LinearRegression <- function(model, X) {\n",
    "  X <- cbind(1, X)  # Add intercept term\n",
    "  return(X %*% c(model$intercept, model$coefficients))  # Predictions\n",
    "}\n",
    "\n",
    "# Score method (R-squared)\n",
    "score.LinearRegression <- function(model, X, y) {\n",
    "  preds <- predict(model, X)\n",
    "  ss_res <- sum((y - preds) ^ 2)\n",
    "  ss_tot <- sum((y - mean(y)) ^ 2)\n",
    "  return(1 - (ss_res / ss_tot))  # R-squared\n",
    "}\n",
    "\n",
    "model <- LinearRegression()\n",
    "model <- fit(model, df$train[\"x\"], df$train[\"y\"])\n",
    "print(score(model, df$train[\"x\"], df$train[\"y\"]))\n",
    "```"
   ]
  },
  {
   "cell_type": "markdown",
   "metadata": {},
   "source": [
    "or another implementation using S4:"
   ]
  },
  {
   "cell_type": "markdown",
   "metadata": {},
   "source": [
    "```r\n",
    "# Define the LinearRegression S4 class\n",
    "setClass(\n",
    "  \"LinearRegression\",\n",
    "  slots = list(\n",
    "    coefficients = \"numeric\",\n",
    "    intercept = \"numeric\"\n",
    "  )\n",
    ")\n",
    "\n",
    "# Define the fit method\n",
    "setGeneric(\"fit\", function(model, X, y) standardGeneric(\"fit\"))\n",
    "setMethod(\"fit\", \"LinearRegression\", function(model, X, y) {\n",
    "  X <- cbind(1, X)  # Add intercept term\n",
    "  beta <- solve(t(X) %*% X) %*% t(X) %*% y  # Normal equation\n",
    "  model@intercept <- beta[1]\n",
    "  model@coefficients <- beta[-1]\n",
    "  return(model)\n",
    "})\n",
    "\n",
    "# Define the predict method\n",
    "setGeneric(\"predict\", function(model, X) standardGeneric(\"predict\"))\n",
    "setMethod(\"predict\", \"LinearRegression\", function(model, X) {\n",
    "  X <- cbind(1, X)  # Add intercept term\n",
    "  return(X %*% c(model@intercept, model@coefficients))  # Predictions\n",
    "})\n",
    "\n",
    "# Define the score method (R-squared)\n",
    "setGeneric(\"score\", function(model, X, y) standardGeneric(\"score\"))\n",
    "setMethod(\"score\", \"LinearRegression\", function(model, X, y) {\n",
    "  preds <- predict(model, X)\n",
    "  ss_res <- sum((y - preds) ^ 2)\n",
    "  ss_tot <- sum((y - mean(y)) ^ 2)\n",
    "  return(1 - (ss_res / ss_tot))  # R-squared\n",
    "})\n",
    "\n",
    "model <- new(\"LinearRegression\")\n",
    "model <- fit(model, df$train[\"x\"], df$train[\"y\"])\n",
    "print(score(model, df$train[\"x\"], df$train[\"y\"]))\n",
    "```"
   ]
  },
  {
   "cell_type": "markdown",
   "metadata": {},
   "source": [
    "or using Reference Classes:"
   ]
  },
  {
   "cell_type": "markdown",
   "metadata": {},
   "source": [
    "```r\n",
    "# Define the LinearRegression reference class\n",
    "LinearRegression <- setRefClass(\n",
    "  \"LinearRegression\",\n",
    "  \n",
    "  fields = list(\n",
    "    coefficients = \"numeric\",\n",
    "    intercept = \"numeric\"\n",
    "  ),\n",
    "  \n",
    "  methods = list(\n",
    "    fit = function(X, y) {\n",
    "      X <- cbind(1, X)  # Add intercept term\n",
    "      beta <- solve(t(X) %*% X) %*% t(X) %*% y  # Normal equation\n",
    "      intercept <<- beta[1]\n",
    "      coefficients <<- beta[-1]\n",
    "      invisible(self)\n",
    "    },\n",
    "    \n",
    "    predict = function(X) {\n",
    "      X <- cbind(1, X)  # Add intercept term\n",
    "      return(X %*% c(intercept, coefficients))  # Predictions\n",
    "    },\n",
    "    \n",
    "    score = function(X, y) {\n",
    "      preds <- predict(X)\n",
    "      ss_res <- sum((y - preds) ^ 2)\n",
    "      ss_tot <- sum((y - mean(y)) ^ 2)\n",
    "      return(1 - (ss_res / ss_tot))  # R-squared\n",
    "    }\n",
    "  )\n",
    ")\n",
    "\n",
    "model <- LinearRegression$new()\n",
    "model$fit(df$train[\"x\"], df$train[\"y\"])\n",
    "print(model$score(df$train[\"x\"], df$train[\"y\"]))\n",
    "```"
   ]
  },
  {
   "cell_type": "markdown",
   "metadata": {},
   "source": [
    "or R6:"
   ]
  },
  {
   "cell_type": "markdown",
   "metadata": {},
   "source": [
    "```r\n",
    "library(R6)\n",
    "\n",
    "LinearRegression <- R6Class(\n",
    "  \"LinearRegression\",\n",
    "  \n",
    "  public = list(\n",
    "    coefficients = NULL,\n",
    "    intercept = NULL,\n",
    "    \n",
    "    fit = function(X, y) {\n",
    "      X <- cbind(1, X)  # Add intercept term\n",
    "      beta <- solve(t(X) %*% X) %*% t(X) %*% y  # Normal equation\n",
    "      self$intercept <- beta[1]\n",
    "      self$coefficients <- beta[-1]\n",
    "      invisible(self)\n",
    "    },\n",
    "    \n",
    "    predict = function(X) {\n",
    "      X <- cbind(1, X)  # Add intercept term\n",
    "      return(X %*% c(self$intercept, self$coefficients))  # Predictions\n",
    "    },\n",
    "    \n",
    "    score = function(X, y) {\n",
    "      preds <- self$predict(X)\n",
    "      ss_res <- sum((y - preds) ^ 2)\n",
    "      ss_tot <- sum((y - mean(y)) ^ 2)\n",
    "      return(1 - (ss_res / ss_tot))  # R-squared\n",
    "    }\n",
    "  )\n",
    ")\n",
    "\n",
    "# Example usage\n",
    "df_binary <- data.frame(Sal = c(1, 2, 3, 4, 5), Temp = c(15, 20, 25, 30, 35))\n",
    "X <- as.matrix(df_binary$Sal)\n",
    "y <- as.matrix(df_binary$Temp)\n",
    "\n",
    "model <- LinearRegression$new()\n",
    "model$fit(df$train[\"x\"], df$train[\"y\"])\n",
    "print(model$score(df$train[\"x\"], df$train[\"y\"]))\n",
    "```"
   ]
  },
  {
   "cell_type": "markdown",
   "metadata": {},
   "source": [
    "## Conclusion\n",
    "\n",
    "R and Python, while both powerful tools for data analysis and modeling, have different default approaches to model creation and fitting. \n",
    "Although R has many OOP paradigms, for many popular models R leverages S3 classes and generic functions, and is often more concise and intuitive for statistical modeling. It allows for quick model specification and is particularly suited for exploratory data analysis.\n",
    "\n",
    "Python's approach, exemplified by the scikit-learn library, offers more explicit control and consistency across different types of models. This can be advantageous in production environments and when integrating models into larger software systems.\n",
    "\n",
    "Understanding these differences can help those computing on data choose the right tool for their specific needs and workflow preferences. Whether one prefers R's implicit fitting or Python's explicit approach, both languages offer flexible and powerful options for a wide range of statistical modeling and machine learning tasks, from simple linear regression to complex ensemble methods like random forests.\n",
    "\n",
    "The choice between R and Python often comes down to the specific requirements of the project, the background of the practitioner, and the broader ecosystem in which the analysis or model will be deployed. By understanding the strengths of each approach, data professionals can make informed decisions and leverage the best of both worlds when necessary.\n",
    "\n",
    "Moreover, as demonstrated in the last section, it's possible to create interfaces in Python that mimic R's behavior, providing a bridge for those transitioning between the two languages or working in mixed environments. This flexibility highlights the power of both languages and the creativity of the data science community in adapting tools to suit their needs."
   ]
  }
 ],
 "metadata": {
  "kernelspec": {
   "display_name": "R",
   "language": "R",
   "name": "ir"
  },
  "language_info": {
   "codemirror_mode": "r",
   "file_extension": ".r",
   "mimetype": "text/x-r-source",
   "name": "R",
   "pygments_lexer": "r",
   "version": "3.11.9"
  }
 },
 "nbformat": 4,
 "nbformat_minor": 2
}
